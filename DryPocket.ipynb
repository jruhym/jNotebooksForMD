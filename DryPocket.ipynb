{
 "cells": [
  {
   "cell_type": "code",
   "execution_count": 1,
   "id": "567d142c-3da1-427e-a8bd-6a59e0deb6c2",
   "metadata": {
    "tags": []
   },
   "outputs": [],
   "source": [
    "cd /home/drew/NBOH/Marzuoli/POPC/Hunter-Sanders"
   ]
  },
  {
   "cell_type": "code",
   "execution_count": 10,
   "id": "fe0b9a4e-6164-4c23-ba3a-1f745126fc38",
   "metadata": {},
   "outputs": [],
   "source": [
    "import bioinf as bi\n",
    "import numpy as np\n",
    "import random\n",
    "\n",
    "with open(\"npt3.pdb\") as pdb, open(\"dry3.pdb\", 'w') as w:\n",
    "    zs = np.array([], dtype=float)\n",
    "    upper = np.array([], dtype=float)\n",
    "    lower = np.array([], dtype=float)\n",
    "    upper_cutoff = None\n",
    "    lower_cutoff = None\n",
    "    waters_deleted = []\n",
    "    z_max = 0\n",
    "    \n",
    "    for line in pdb:\n",
    "        stripped = line.strip()\n",
    "        pdb_line = bi.parse_pdb_ATOM_line(line)\n",
    "        if not pdb_line:\n",
    "            w.write(line)\n",
    "            continue\n",
    "        name = pdb_line.get('name', '').strip()\n",
    "        zstring = pdb_line.get('z', None)\n",
    "        z = None\n",
    "        try:\n",
    "            z = float(zstring)\n",
    "            z_max = max(z, z_max)\n",
    "        except:\n",
    "            w.write(line)\n",
    "            continue\n",
    "           \n",
    "        if name == 'P8': # P head of DPPC\n",
    "            zs = np.append(zs, z)\n",
    "        if name == 'OW': #assumes SOL follows all lipids and that only O's belonging to SOL are named 'OW'\n",
    "            if not upper_cutoff:\n",
    "                lower, upper = np.split(np.sort(zs), 2) # falsly assumed same number of lipids in top and bottom\n",
    "                upper_cutoff = np.median(upper) # median is robust against above mistake \n",
    "                lower_cutoff = np.median(lower) #TODO: find algorithm to split between modes\n",
    "            if z < upper_cutoff and z > lower_cutoff:\n",
    "                pdb.readline() # assumes H1 next\n",
    "                pdb.readline() # and H2 after that\n",
    "                waters_deleted.append(pdb_line['resSeq'])\n",
    "                continue\n",
    "            w.write(line)\n",
    "            continue\n",
    "            \n",
    "        if name in [\"CL\", \"NA\"]: #assumes CL's follow lipids\n",
    "            if z < upper_cutoff and z > lower_cutoff:\n",
    "                z = random.choice([random.uniform(0, np.min(lower)), random.uniform(np.max(upper), z_max)])\n",
    "                pdb_line['z'] = f'{z:.3f}'\n",
    "            w.write(f'{bi.print_pdb_ATOM_line(pdb_line)}\\n')\n",
    "            continue\n",
    "        w.write(line)"
   ]
  }
 ],
 "metadata": {
  "kernelspec": {
   "display_name": "Python 3",
   "language": "python",
   "name": "python3"
  },
  "language_info": {
   "codemirror_mode": {
    "name": "ipython",
    "version": 3
   },
   "file_extension": ".py",
   "mimetype": "text/x-python",
   "name": "python",
   "nbconvert_exporter": "python",
   "pygments_lexer": "ipython3",
   "version": "3.8.8"
  }
 },
 "nbformat": 4,
 "nbformat_minor": 5
}
