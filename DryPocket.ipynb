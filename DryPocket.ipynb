{
 "cells": [
  {
   "cell_type": "code",
   "execution_count": 1,
   "id": "567d142c-3da1-427e-a8bd-6a59e0deb6c2",
   "metadata": {},
   "outputs": [
    {
     "name": "stdout",
     "output_type": "stream",
     "text": [
      "/scr/drew/Serotonin/6WHA/equilibration/tryIonicCapsInSolvent/di-S-bond_ECL3/6WGTTmplt4EXL3/Desmond/Hirshfeld/HomologyModelReHelixV\n"
     ]
    }
   ],
   "source": [
    "cd /home/drew/NBOH/di-S-bond_ECL3/6WGTTmplt4EXL3/Desmond/Hirshfeld/HomologyModelReHelixV"
   ]
  },
  {
   "cell_type": "code",
   "execution_count": 10,
   "id": "fe0b9a4e-6164-4c23-ba3a-1f745126fc38",
   "metadata": {},
   "outputs": [],
   "source": [
    "import bioinf as bi\n",
    "import numpy as np\n",
    "import random\n",
    "\n",
    "with open(\"npt3.pdb\") as pdb, open(\"dry3.pdb\", 'w') as w:\n",
    "    zs = np.array([], dtype=float)\n",
    "    upper = np.array([], dtype=float)\n",
    "    lower = np.array([], dtype=float)\n",
    "    upper_cutoff = None\n",
    "    lower_cutoff = None\n",
    "    waters_deleted = []\n",
    "    z_max = 0\n",
    "    \n",
    "    for line in pdb:\n",
    "        stripped = line.strip()\n",
    "        pdb_line = bi.parse_pdb_ATOM_line(line)\n",
    "        if not pdb_line:\n",
    "            w.write(line)\n",
    "            continue\n",
    "        name = pdb_line.get('name', '').strip()\n",
    "        zstring = pdb_line.get('z', None)\n",
    "        z = None\n",
    "        try:\n",
    "            z = float(zstring)\n",
    "            z_max = max(z, z_max)\n",
    "        except:\n",
    "            w.write(line)\n",
    "            continue\n",
    "           \n",
    "        if name == 'P8': # P head of DPPC\n",
    "            zs = np.append(zs, z)\n",
    "        if name == 'OW': #assumes SOL follows all lipids and that only O's belonging to SOL are named 'OW'\n",
    "            if not upper_cutoff:\n",
    "                lower, upper = np.split(np.sort(zs), 2) # falsly assumed same number of lipids in top and bottom\n",
    "                upper_cutoff = np.median(upper) # median is robust against above mistake \n",
    "                lower_cutoff = np.median(lower) #TODO: find algorithm to split between modes\n",
    "            if z < upper_cutoff and z > lower_cutoff:\n",
    "                pdb.readline() # assumes H1 next\n",
    "                pdb.readline() # and H2 after that\n",
    "                waters_deleted.append(pdb_line['resSeq'])\n",
    "                continue\n",
    "            w.write(line)\n",
    "            continue\n",
    "            \n",
    "        if name in [\"CL\", \"NA\"]: #assumes CL's follow lipids\n",
    "            if z < upper_cutoff and z > lower_cutoff:\n",
    "                z = random.choice([random.uniform(0, np.min(lower)), random.uniform(np.max(upper), z_max)])\n",
    "                pdb_line['z'] = f'{z:.3f}'\n",
    "            w.write(f'{bi.print_pdb_ATOM_line(pdb_line)}\\n')\n",
    "            continue\n",
    "        w.write(line)"
   ]
  },
  {
   "cell_type": "code",
   "execution_count": 22,
   "id": "2b9e7d11-0738-456e-a71c-20ead889f84a",
   "metadata": {},
   "outputs": [
    {
     "data": {
      "text/plain": [
       "numpy.ndarray"
      ]
     },
     "execution_count": 22,
     "metadata": {},
     "output_type": "execute_result"
    }
   ],
   "source": [
    "type(zs)"
   ]
  },
  {
   "cell_type": "code",
   "execution_count": 6,
   "id": "2da7633e-8840-4625-b926-9ddb852e145f",
   "metadata": {},
   "outputs": [
    {
     "data": {
      "text/plain": [
       "67.007"
      ]
     },
     "execution_count": 6,
     "metadata": {},
     "output_type": "execute_result"
    }
   ],
   "source": [
    "lower_cutoff"
   ]
  },
  {
   "cell_type": "code",
   "execution_count": 39,
   "id": "fe7caece-639b-465e-834b-75be90f12e29",
   "metadata": {},
   "outputs": [],
   "source": [
    "pdb_line"
   ]
  },
  {
   "cell_type": "code",
   "execution_count": 14,
   "id": "0f9e580f-6cde-4210-839d-ff0235418640",
   "metadata": {},
   "outputs": [
    {
     "data": {
      "text/plain": [
       "array([ 61,  62,  63,  64,  65,  66,  67,  68,  69,  70,  71,  72,  73,\n",
       "        74,  75,  76,  77,  78,  79,  80,  81,  82,  83,  84,  85,  86,\n",
       "        87,  88,  89,  90,  91,  92,  93,  94,  95,  96,  97,  98,  99,\n",
       "       100, 101, 102, 103, 104, 105, 106, 107, 108, 109, 110, 111, 112,\n",
       "       113, 114, 115, 116, 117, 118, 119, 120, 121])"
      ]
     },
     "execution_count": 14,
     "metadata": {},
     "output_type": "execute_result"
    }
   ],
   "source": [
    "np.where(zs > zmid)[0]"
   ]
  },
  {
   "cell_type": "code",
   "execution_count": 11,
   "id": "3a10b855-8386-4bf1-ae78-6f65b7f310c7",
   "metadata": {},
   "outputs": [
    {
     "data": {
      "text/plain": [
       "353"
      ]
     },
     "execution_count": 11,
     "metadata": {},
     "output_type": "execute_result"
    }
   ],
   "source": [
    "len(waters_deleted)"
   ]
  },
  {
   "cell_type": "code",
   "execution_count": 12,
   "id": "cbdc9128-0e03-4540-bdb7-83e13042c84b",
   "metadata": {},
   "outputs": [
    {
     "data": {
      "text/plain": [
       "7265"
      ]
     },
     "execution_count": 12,
     "metadata": {},
     "output_type": "execute_result"
    }
   ],
   "source": [
    "7618-len(waters_deleted)"
   ]
  },
  {
   "cell_type": "code",
   "execution_count": null,
   "id": "659cb3ed-0e4f-4f48-bd58-a0504540bda0",
   "metadata": {},
   "outputs": [],
   "source": []
  }
 ],
 "metadata": {
  "kernelspec": {
   "display_name": "Python 3",
   "language": "python",
   "name": "python3"
  },
  "language_info": {
   "codemirror_mode": {
    "name": "ipython",
    "version": 3
   },
   "file_extension": ".py",
   "mimetype": "text/x-python",
   "name": "python",
   "nbconvert_exporter": "python",
   "pygments_lexer": "ipython3",
   "version": "3.8.8"
  }
 },
 "nbformat": 4,
 "nbformat_minor": 5
}
