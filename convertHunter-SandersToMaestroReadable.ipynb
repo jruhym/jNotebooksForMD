{
 "cells": [
  {
   "cell_type": "code",
   "execution_count": null,
   "id": "158ae5d4-b7c8-48cc-871a-5120e7636973",
   "metadata": {},
   "outputs": [],
   "source": [
    "cd /home/drew/NBOH/Marzuoli/POPC/Hunter-Sanders"
   ]
  },
  {
   "cell_type": "code",
   "execution_count": null,
   "id": "0aa3c091-40fd-4ab2-ab63-cc71fdf556e9",
   "metadata": {},
   "outputs": [],
   "source": [
    "import bioinf as bi\n",
    "\n",
    "with open('npt.pdb') as f, open('dum_npt.pdb', 'w') as o:\n",
    "    for line in f:\n",
    "        cleanline = line.strip()\n",
    "        if not cleanline.startswith('ATOM'):\n",
    "            o.write(line)\n",
    "            continue\n",
    "        atomline = bi.PDBAtomLine.parse_string(cleanline)\n",
    "        if not atomline:\n",
    "            o.write(line)\n",
    "            continue\n",
    "        if atomline.name[-1] in ('u', 'c', 'd'):\n",
    "            atomline = atomline.copy_with(name='DUM', element='Hp' if atomline.name[-1] == 'c' else 'Hm')\n",
    "        o.write(f'{str(atomline)}\\n')"
   ]
  },
  {
   "cell_type": "code",
   "execution_count": null,
   "id": "0237ba61-be9f-4a6b-b2e3-b59946d6e212",
   "metadata": {},
   "outputs": [],
   "source": []
  }
 ],
 "metadata": {
  "kernelspec": {
   "display_name": "Python 3 (ipykernel)",
   "language": "python",
   "name": "python3"
  },
  "language_info": {
   "codemirror_mode": {
    "name": "ipython",
    "version": 3
   },
   "file_extension": ".py",
   "mimetype": "text/x-python",
   "name": "python",
   "nbconvert_exporter": "python",
   "pygments_lexer": "ipython3",
   "version": "3.8.16"
  }
 },
 "nbformat": 4,
 "nbformat_minor": 5
}
