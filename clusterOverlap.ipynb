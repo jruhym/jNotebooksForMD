{
 "cells": [
  {
   "cell_type": "code",
   "execution_count": 4,
   "id": "ee632a1d-0dd3-4d83-ad0d-e3c135340c14",
   "metadata": {},
   "outputs": [
    {
     "name": "stdout",
     "output_type": "stream",
     "text": [
      "/scr/drew/Serotonin/ligands/25N-N1-Nap/6WHA/noGProtein/IFD_1/tryIonicCapsInSolvent/6WGTECLTemplate\n"
     ]
    }
   ],
   "source": [
    "cd ~/Nap"
   ]
  },
  {
   "cell_type": "code",
   "execution_count": 29,
   "id": "67f76fb1-5ff8-4299-8af8-5baf074b9d09",
   "metadata": {},
   "outputs": [],
   "source": [
    "import glob\n",
    "import numpy as np\n",
    "\n",
    "frames_per_cluster_trajectory = []\n",
    "\n",
    "files = glob.glob(\".cluster*\")\n",
    "\n",
    "clusters = {}\n",
    "\n",
    "class Clust:\n",
    "    def __init__(self, file):\n",
    "        self._file = file\n",
    "        _, cluster, trajectory, _, count, min_rmsd_frame_idx, _ = file.split('.')\n",
    "        _, cluster = cluster.split(\"cluster\")\n",
    "        _, trajectory = trajectory.split(\"traj\")\n",
    "        _, count = count.split(\"count\")\n",
    "        _, min_rmsd_frame_idx = min_rmsd_frame_idx.split(\"on\")\n",
    "        self._id = int(cluster)\n",
    "        self._trajectory_id = int(trajectory)\n",
    "        self._frame_count = int(count)\n",
    "        self._min_rmsd_frame_idx = int(min_rmsd_frame_idx)\n",
    "\n",
    "    id = property(lambda self: self._id)\n",
    "    file = property(lambda self: self.file)\n",
    "    trajectory_id = property(lambda self: self._trajectory_id)\n",
    "    frame_count = property(lambda self: self._frame_count)\n",
    "    \n",
    "    @classmethod\n",
    "    def zeroWithId(_, id):\n",
    "        return Clust(f'.cluster{id}.traj0.frames0-0.count0.on0.mae')\n",
    "    \n",
    "    def __lt__(self, other):\n",
    "        return self._frame_count < other.frame_count\n",
    "\n",
    "    def __eq__(self, other):\n",
    "        return self._frame_count == other.frame_count\n",
    "\n",
    "    \n",
    "min_rmsd_clusts = {}\n",
    "\n",
    "for file in files:\n",
    "    clust = Clust(file)\n",
    "    current_min_clust = min_rmsd_clusts.get(clust.id, Clust.zeroWithId(clust.id))\n",
    "    min_rmsd_clusts[clust.id] = min(current_min_clust, clust)\n",
    "    frames_per_cluster_trajectory.append([clust.id, clust.trajectory_id, clust.frame_count])\n",
    "frames_per_cluster_trajectory_arr = np.array(frames_per_cluster_trajectory)\n",
    "cluster_max = np.max(frames_per_cluster_trajectory_arr[:,0])\n",
    "trajectory_max = np.max(frames_per_cluster_trajectory_arr[:,1])\n",
    "data = np.zeros((cluster_max + 1, trajectory_max + 1), dtype=\"int\")\n",
    "\n",
    "for datum in frames_per_cluster_trajectory_arr:\n",
    "    #print(datum[0], datum[1], datum[2])\n",
    "    data[datum[0],datum[1]] += datum[2]\n"
   ]
  },
  {
   "cell_type": "code",
   "execution_count": 21,
   "id": "3cdc0011-8ab7-411f-8d71-0bd9236c7c73",
   "metadata": {},
   "outputs": [
    {
     "data": {
      "text/plain": [
       "array([251, 251, 251, 251, 251, 251, 251, 251, 251, 251, 251, 251])"
      ]
     },
     "execution_count": 21,
     "metadata": {},
     "output_type": "execute_result"
    }
   ],
   "source": [
    "np.sum(data, axis=0)"
   ]
  },
  {
   "cell_type": "code",
   "execution_count": 8,
   "id": "30e1ff64-f6f2-4762-b4df-8009cbe18873",
   "metadata": {},
   "outputs": [
    {
     "data": {
      "text/plain": [
       "[Text(0.5, 23.52222222222222, 'trajectory'),\n",
       " Text(50.722222222222214, 0.5, 'cluster')]"
      ]
     },
     "execution_count": 8,
     "metadata": {},
     "output_type": "execute_result"
    },
    {
     "data": {
      "image/png": "[encoded data removed]",
      "text/plain": [
       "<Figure size 640x480 with 2 Axes>"
      ]
     },
     "metadata": {},
     "output_type": "display_data"
    }
   ],
   "source": [
    "import seaborn as sb\n",
    "ax = sb.heatmap(data, robust=False, linewidths = 0.5, cbar_kws = {\"label\": \"frame count\"})\n",
    "ax.set(xlabel=\"trajectory\", ylabel=\"cluster\")"
   ]
  },
  {
   "cell_type": "code",
   "execution_count": 30,
   "id": "2f1204a7-bde6-4a7e-b073-2e399d5e1474",
   "metadata": {},
   "outputs": [
    {
     "data": {
      "text/plain": [
       "{19: <__main__.Clust at 0x7f3742af2190>,\n",
       " 4: <__main__.Clust at 0x7f3742af20a0>,\n",
       " 13: <__main__.Clust at 0x7f3742af2430>,\n",
       " 11: <__main__.Clust at 0x7f375c044280>,\n",
       " 26: <__main__.Clust at 0x7f3742aceee0>,\n",
       " 21: <__main__.Clust at 0x7f3742acef40>,\n",
       " 0: <__main__.Clust at 0x7f3742acedf0>,\n",
       " 10: <__main__.Clust at 0x7f375c04e0d0>,\n",
       " 1: <__main__.Clust at 0x7f3742b08a30>,\n",
       " 18: <__main__.Clust at 0x7f3742b089d0>,\n",
       " 22: <__main__.Clust at 0x7f3742b08bb0>,\n",
       " 7: <__main__.Clust at 0x7f3742b08a00>,\n",
       " 20: <__main__.Clust at 0x7f3742b08ca0>,\n",
       " 16: <__main__.Clust at 0x7f3742bd6910>,\n",
       " 12: <__main__.Clust at 0x7f3742ad0250>,\n",
       " 14: <__main__.Clust at 0x7f3742ad0af0>,\n",
       " 5: <__main__.Clust at 0x7f3742bd6b80>,\n",
       " 25: <__main__.Clust at 0x7f3742ad0550>,\n",
       " 6: <__main__.Clust at 0x7f3742ad0760>,\n",
       " 3: <__main__.Clust at 0x7f3742ad0d00>,\n",
       " 23: <__main__.Clust at 0x7f3742bcc2e0>,\n",
       " 15: <__main__.Clust at 0x7f3742aee520>,\n",
       " 17: <__main__.Clust at 0x7f3742aee7c0>,\n",
       " 2: <__main__.Clust at 0x7f3742aee760>,\n",
       " 8: <__main__.Clust at 0x7f3742aee700>,\n",
       " 24: <__main__.Clust at 0x7f3742aee6a0>,\n",
       " 9: <__main__.Clust at 0x7f3742aee5e0>}"
      ]
     },
     "execution_count": 30,
     "metadata": {},
     "output_type": "execute_result"
    }
   ],
   "source": [
    "min_rmsd_clusts"
   ]
  },
  {
   "cell_type": "code",
   "execution_count": 2,
   "id": "ce9114c7-d9b1-4955-a9ff-da5e5507549f",
   "metadata": {},
   "outputs": [],
   "source": [
    "from openbabel import pybel"
   ]
  },
  {
   "cell_type": "code",
   "execution_count": 11,
   "id": "48dacd63-9ecc-4b2e-9d36-2a1c63425438",
   "metadata": {},
   "outputs": [
    {
     "data": {
      "text/plain": [
       "array([[  0,   0, 150,   0,   0,   0,   0, 214,   0,   0,   0,   0],\n",
       "       [  0,   0,   0, 239,   0,   0,   0,   0,   0,   0,   0,   0],\n",
       "       [  2,   0,   0,   0,   0,   0, 234,   0,   0,   0,   0,   0],\n",
       "       [  0, 232,   0,   0,   0,   0,   0,   0,   0,   0,   0,   0],\n",
       "       [  0,   0,   1,   1, 223,   1,   4,   1,   0,   0,   0,   0],\n",
       "       [  0,   0,   0,   0,   0,   0,   0,   0, 218,   0,   0,   0],\n",
       "       [  0,   0,   0,   0,   0,   0,   0,   0,   0,   0, 205,   0],\n",
       "       [186,   0,   0,   0,   0,   0,   0,   0,   0,   0,   0,   0],\n",
       "       [  0,   0,   0,   0,   0,   0,   0,   0,   0, 182,   0,   0],\n",
       "       [  0,   0,   0,   0,   0, 163,   0,   0,   0,   0,   0,   0],\n",
       "       [  0,   0,   0,   0,   0,   0,   0,   0,   0,   0,   0, 131],\n",
       "       [  3,   0,   0,   0,   0,   0,   0,   0,   0,   0,   2, 107],\n",
       "       [  0,   0,  83,   0,   0,   0,   0,  21,   0,   0,   0,   0],\n",
       "       [  2,   9,   2,   3,  25,   7,   3,   3,   2,   9,   6,  10],\n",
       "       [  0,   0,   0,   0,   0,  58,   0,   0,   0,   0,   0,   0],\n",
       "       [  0,   0,   0,   0,   0,   0,   0,   0,   1,  54,   0,   0],\n",
       "       [ 39,   0,   0,   6,   0,   0,   0,   0,   0,   3,   0,   0],\n",
       "       [ 14,   0,   0,   0,   0,  16,   1,   0,   0,   0,   0,   0],\n",
       "       [  0,   4,   0,   0,   0,   1,   0,   0,  21,   2,   0,   0],\n",
       "       [  1,   5,   0,   2,   3,   1,   1,   5,   3,   1,   1,   3],\n",
       "       [  0,   1,   4,   0,   0,   0,   8,   7,   0,   0,   0,   0],\n",
       "       [  0,   0,   0,   0,   0,   0,   0,   0,   0,   0,  19,   0],\n",
       "       [  0,   0,   0,   0,   0,   0,   0,   0,   0,   0,  17,   0],\n",
       "       [  0,   0,  11,   0,   0,   0,   0,   0,   0,   0,   1,   0],\n",
       "       [  0,   0,   0,   0,   0,   0,   0,   0,   6,   0,   0,   0],\n",
       "       [  0,   0,   0,   0,   0,   4,   0,   0,   0,   0,   0,   0],\n",
       "       [  4,   0,   0,   0,   0,   0,   0,   0,   0,   0,   0,   0]])"
      ]
     },
     "execution_count": 11,
     "metadata": {},
     "output_type": "execute_result"
    }
   ],
   "source": [
    "data"
   ]
  },
  {
   "cell_type": "code",
   "execution_count": null,
   "id": "54c1b4c8-ce8b-4df3-84a4-79841c1bc240",
   "metadata": {},
   "outputs": [],
   "source": []
  }
 ],
 "metadata": {
  "kernelspec": {
   "display_name": "Python 3 (ipykernel)",
   "language": "python",
   "name": "python3"
  },
  "language_info": {
   "codemirror_mode": {
    "name": "ipython",
    "version": 3
   },
   "file_extension": ".py",
   "mimetype": "text/x-python",
   "name": "python",
   "nbconvert_exporter": "python",
   "pygments_lexer": "ipython3",
   "version": "3.8.8"
  }
 },
 "nbformat": 4,
 "nbformat_minor": 5
}
