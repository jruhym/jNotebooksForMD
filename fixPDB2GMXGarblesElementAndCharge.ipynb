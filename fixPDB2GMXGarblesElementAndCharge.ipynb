{
 "cells": [
  {
   "cell_type": "code",
   "execution_count": null,
   "id": "e083e3e8-c873-45ed-ac8e-d72a45c61d35",
   "metadata": {},
   "outputs": [],
   "source": [
    "cd /home/drew/NBOH/Marzuoli/POPC/Hunter-Sanders"
   ]
  },
  {
   "cell_type": "code",
   "execution_count": null,
   "id": "f984924a-79bd-462d-8718-72a25cec5675",
   "metadata": {},
   "outputs": [],
   "source": [
    "import bioinf as bi\n",
    "\n",
    "START_INDEX = 3644\n",
    "START_RESIDUE = 401\n",
    "with open(\"LipidAndSolventPreHS.pdb\") as o:\n",
    "    atoms = []\n",
    "    i = START_INDEX\n",
    "    r = START_RESIDUE\n",
    "    old_resSeq = r\n",
    "    for line in o:\n",
    "        cleanline = line.strip()\n",
    "        if cleanline.startswith(\"HETATM\") or cleanline.startswith(\"ATOM\"):\n",
    "            atom = bi.PDBAtomLine.parse_string(cleanline)\n",
    "            if atom.element == \"a1\":\n",
    "                atom = atom.copy_with(element=\"Na\", charge=\"1+\")\n",
    "            elif atom.element == \"l1\":\n",
    "                atom = atom.copy_with(element=\"Cl\", charge=\"1-\")\n",
    "            elif atom.element == \"N1\":\n",
    "                atom = atom.copy_with(element=\"N\", charge=\"1+\")\n",
    "            elif atom.element == \"O1\":\n",
    "                atom = atom.copy_with(element=\"O\", charge=\"1-\")\n",
    "            r += 0 if int(atom.resSeq) == old_resSeq else 1\n",
    "            old_resSeq = int(atom.resSeq)\n",
    "            atoms.append(str(atom.copy_with(serial=f'{i}', resSeq=f'{r}')))\n",
    "            i += 1\n",
    "            continue\n",
    "        "
   ]
  },
  {
   "cell_type": "code",
   "execution_count": null,
   "id": "b0abaebe-ec22-4cf4-9a39-f472fdcba276",
   "metadata": {},
   "outputs": [],
   "source": [
    "with open(\"LipidAndSolventHS.pdb\", \"w\") as o:\n",
    "    o.write(\"\\n\".join(atoms))"
   ]
  },
  {
   "cell_type": "code",
   "execution_count": null,
   "id": "059d8921-2939-4317-824c-8ed8784314b7",
   "metadata": {},
   "outputs": [],
   "source": []
  }
 ],
 "metadata": {
  "kernelspec": {
   "display_name": "Python 3 (ipykernel)",
   "language": "python",
   "name": "python3"
  },
  "language_info": {
   "codemirror_mode": {
    "name": "ipython",
    "version": 3
   },
   "file_extension": ".py",
   "mimetype": "text/x-python",
   "name": "python",
   "nbconvert_exporter": "python",
   "pygments_lexer": "ipython3",
   "version": "3.8.16"
  }
 },
 "nbformat": 4,
 "nbformat_minor": 5
}
