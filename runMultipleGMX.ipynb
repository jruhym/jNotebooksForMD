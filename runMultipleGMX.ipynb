{
 "cells": [
  {
   "cell_type": "code",
   "execution_count": null,
   "id": "7eb45484-65eb-4d1d-8eb4-4be97e327bbd",
   "metadata": {
    "tags": []
   },
   "outputs": [],
   "source": [
    "cd /home/drew/NBOH"
   ]
  },
  {
   "cell_type": "code",
   "execution_count": null,
   "id": "78d173ee-0d6a-4d7d-89ab-dc3af81abc76",
   "metadata": {
    "tags": []
   },
   "outputs": [],
   "source": [
    "import asyncio\n",
    "import nest_asyncio\n",
    "import os\n",
    "\n",
    "nest_asyncio.apply() #https://github.com/jupyter/notebook/issues/3397#issuecomment-419386811\n",
    "\n",
    "parent_dir = os.getcwd()\n",
    "nsimulations = 7\n",
    "first_sim_n = 2\n",
    "nproc = 64\n",
    "proc_per_sim = nproc//nsimulations\n",
    "stride = 2\n",
    "\n",
    "def grompp(directory, mdp, i, o,  is_continuation, maxwarn=1):\n",
    "    parameters = ['gmx', 'grompp', \n",
    "                  '-f', f'{mdp}.mdp', \n",
    "                  '-c', f'{i}.pdb', \n",
    "                  '-r', 'fullSystemStart.pdb', \n",
    "                  '-p', 'topol.top', \n",
    "                  '-o', f'{o}.tpr', \n",
    "                  '-n',\n",
    "                  '-maxwarn', f'{maxwarn}']\n",
    "    if is_continuation:\n",
    "        parameters.extend(['-t', f'{i}.trr'])\n",
    "    param_str = \" \".join(parameters)\n",
    "    return f'cd {parent_dir}; cd {directory}; {param_str}'\n",
    "    #return await asyncio.create_subprocess_shell(cmd, stdout=asyncio.subprocess.DEVNULL, stderr=asyncio.subprocess.DEVNULL)\n",
    "    #return subp.run(parameters, capture_output=True)\n",
    "\n",
    "def mdrun(directory, i, nt, gpu_id, pinoffset):\n",
    "    parameters = ['gmx', 'mdrun', \n",
    "                     '-nt', f'{nt}', \n",
    "                     '-gpu_id', f'{gpu_id}', \n",
    "                     '-ntmpi', '1', \n",
    "                     '-pin', 'on', \n",
    "                     '-pinstride', f'{stride}', \n",
    "                     '-pinoffset', f'{pinoffset}', \n",
    "                     '-deffnm', f'{i}', \n",
    "                     '-c', f'{i}.pdb', \n",
    "                     '-nice', '+10']\n",
    "    return f'{\" \".join(parameters)}'\n",
    "    #return await asyncio.create_subprocess_shell(cmd, stdout=asyncio.subprocess.DEVNULL, stderr=asyncio.subprocess.DEVNULL)\n",
    "    #return subp.run(               capture_output=True)\n",
    "\n",
    "def prep_and_run_phase(directory, mdp, i, o, nt, gpu_id, pinoffset, maxwarn=1, is_continuation=False):\n",
    "    return f'{grompp(directory, mdp, i, o, is_continuation, maxwarn=maxwarn)}; {mdrun(directory, o, nt, gpu_id, pinoffset)}'\n",
    "    \n",
    "def run_sim(sim_dex=0, first_directory=0):\n",
    "    offset = stride * sim_dex * proc_per_sim\n",
    "    gpu_id = 0 if sim_dex < nsimulations / 2 else 1 #we only have 2 gpus 0 and 1 otherwise a binary check wouldn't suffice\n",
    "    directory = f'run{sim_dex + first_directory:02}'\n",
    "    return ';'.join([\n",
    "        #prep_and_run_phase(directory, 'minim_restrained', 'fullSystemStart', 'em', proc_per_sim, gpu_id, offset),\n",
    "        #prep_and_run_phase(directory, 'minim', 'em', 'em2', proc_per_sim, gpu_id, offset),\n",
    "        prep_and_run_phase(directory, 'nvt', 'em2', 'nvt', proc_per_sim, gpu_id, offset),\n",
    "        prep_and_run_phase(directory, 'npt', 'nvt', 'npt', proc_per_sim, gpu_id, offset, maxwarn=2, is_continuation=True),\n",
    "        prep_and_run_phase(directory, 'md', 'npt', 'md_0_1', proc_per_sim, gpu_id, offset, is_continuation=True)])\n",
    "\n",
    "async def run(cmd, do_stdout=False, do_stderr=False):\n",
    "    proc = await asyncio.create_subprocess_shell(cmd, stdout=asyncio.subprocess.PIPE, stderr=asyncio.subprocess.PIPE)\n",
    "    #await proc.wait()\n",
    "    stdout, stderr = await proc.communicate()\n",
    "    print(f'[{cmd!r} exited with {proc.returncode}]')\n",
    "    if do_stdout and stdout:\n",
    "        print(f'[stdout]\\n{stdout.decode()}')\n",
    "    if do_stderr and stderr:\n",
    "        print(f'[stderr]\\n{stderr.decode()}')\n",
    "\n",
    "async def main():\n",
    "    await asyncio.gather(*[run(run_sim(n, first_sim_n), do_stderr=True) for n in range(nsimulations)])\n",
    "    \n",
    "asyncio.run(main())\n"
   ]
  }
 ],
 "metadata": {
  "kernelspec": {
   "display_name": "Python 3 (ipykernel)",
   "language": "python",
   "name": "python3"
  },
  "language_info": {
   "codemirror_mode": {
    "name": "ipython",
    "version": 3
   },
   "file_extension": ".py",
   "mimetype": "text/x-python",
   "name": "python",
   "nbconvert_exporter": "python",
   "pygments_lexer": "ipython3",
   "version": "3.8.8"
  }
 },
 "nbformat": 4,
 "nbformat_minor": 5
}
