{
 "cells": [
  {
   "cell_type": "code",
   "execution_count": null,
   "id": "e8e16b27-baf2-4732-a82b-d0316938a219",
   "metadata": {},
   "outputs": [],
   "source": [
    "cd /home/drew/NBOH/Marzuoli/POPC"
   ]
  },
  {
   "cell_type": "code",
   "execution_count": null,
   "id": "01f91674-0a9f-4227-b0a6-57e9a54e7a40",
   "metadata": {},
   "outputs": [],
   "source": [
    "import bioinf as bi\n",
    "import csv\n",
    "import numpy as np \n",
    "\n",
    "structure_in = 'DesmondAssembledMembrane.pdb'\n",
    "structure_out = 'POPC_itp.pdb'\n",
    "name_map = 'Ciou2MarzuoliPOPCMap.csv'\n",
    "\n",
    "with open(structure_in) as s, open(name_map) as m:\n",
    "    \n",
    "    reader = csv.reader(m)\n",
    "    next(reader)\n",
    "    names_map = dict(reader)\n",
    "    \n",
    "    atom_lines = np.array([])\n",
    "    for s_line in s:\n",
    "        atom_line = bi.PDBAtomLine.parse_string(s_line)\n",
    "        if not atom_line:\n",
    "            continue\n",
    "        atom_lines = np.append(atom_lines, atom_line)\n",
    "\n",
    "    system = bi.PDBProtein(atom_lines)\n",
    "    system.strip_hydrogens()\n",
    "    system.rename_atoms(names_map)\n",
    "    \n",
    "    for residue in system.residues:\n",
    "        residue.reorder_by_names(names_map.values())\n",
    "\n",
    "with open(structure_out, 'w') as s:\n",
    "    s.write(str(system))\n"
   ]
  },
  {
   "cell_type": "code",
   "execution_count": null,
   "id": "4214bd9b-58cd-47df-a299-778cc745eb0e",
   "metadata": {},
   "outputs": [],
   "source": [
    "print(system)"
   ]
  },
  {
   "cell_type": "code",
   "execution_count": null,
   "id": "39fd49a0-c622-4493-8af3-d4e8ddaf8f80",
   "metadata": {},
   "outputs": [],
   "source": []
  }
 ],
 "metadata": {
  "kernelspec": {
   "display_name": "Python 3 (ipykernel)",
   "language": "python",
   "name": "python3"
  },
  "language_info": {
   "codemirror_mode": {
    "name": "ipython",
    "version": 3
   },
   "file_extension": ".py",
   "mimetype": "text/x-python",
   "name": "python",
   "nbconvert_exporter": "python",
   "pygments_lexer": "ipython3",
   "version": "3.8.8"
  }
 },
 "nbformat": 4,
 "nbformat_minor": 5
}
