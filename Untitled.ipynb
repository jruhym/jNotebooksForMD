{
 "cells": [
  {
   "cell_type": "code",
   "execution_count": 1,
   "id": "8ae79f5a-4b80-4455-ac9d-71ec336ff335",
   "metadata": {},
   "outputs": [
    {
     "name": "stdout",
     "output_type": "stream",
     "text": [
      "/scr/drew/Serotonin/ligands/25N-NBOH/nitro\n"
     ]
    }
   ],
   "source": [
    "cd /home/drew/Projects/Serotonin/ligands/25N-NBOH/nitro"
   ]
  },
  {
   "cell_type": "code",
   "execution_count": 4,
   "id": "f1907891-1a84-4e14-a421-f776ab9ac8e8",
   "metadata": {},
   "outputs": [
    {
     "name": "stdout",
     "output_type": "stream",
     "text": [
      "C1 LG9J\n",
      "C2 LG9J\n",
      "C3 LG9J\n",
      "C4 LG9J\n",
      "C5 LG9J\n",
      "C6 LG9J\n",
      "C7 LG9J\n",
      "O1 LG9J\n",
      "O2 LG9J\n",
      "N1 LG9J\n",
      "O3 LG9J\n",
      "O4 LG9J\n",
      "C8 LG9J\n",
      "C9 LG9J\n",
      "C10 LG9J\n",
      "N2 LG9J\n",
      "C11 LG9J\n",
      "C12 LG9J\n",
      "C13 LG9J\n",
      "C14 LG9J\n",
      "C15 LG9J\n",
      "C16 LG9J\n",
      "C17 LG9J\n",
      "O5 LG9J\n",
      "HC3 LG9J\n",
      "HC6 LG9J\n",
      "H7_1 LG9J\n",
      "H7_2 LG9J\n",
      "H8_1 LG9J\n",
      "H8_2 LG9J\n",
      "H8_3 LG9J\n",
      "H9_1 LG9J\n",
      "H9_2 LG9J\n",
      "H9_3 LG9J\n",
      "H101 LG9J\n",
      "H102 LG9J\n",
      "H2_1 LG9J\n",
      "H2_2 LG9J\n",
      "H111 LG9J\n",
      "H112 LG9J\n",
      "HC12 LG9J\n",
      "HC13 LG9J\n",
      "HC16 LG9J\n",
      "HC17 LG9J\n",
      "HO5 LG9J\n"
     ]
    }
   ],
   "source": [
    "import bioinf as bi\n",
    "\n",
    "ligand = \"LG9J\"\n",
    "start = False\n",
    "with open(f'{ligand}.itp') as t, open(f'{ligand}.pdb') as p:\n",
    "    atoms = []\n",
    "    \n",
    "    for line in t:\n",
    "        cleanline = line.strip()\n",
    "        if cleanline.startswith(\";  nr\"):\n",
    "            start = True\n",
    "            continue\n",
    "        if cleanline.startswith(\"; total\"):\n",
    "            break\n",
    "        if not start:\n",
    "            continue\n",
    "        _,_,_,_,at_str,_,_,_ = cleanline.split()\n",
    "        atoms.append(at_str.strip())\n",
    "    \n",
    "    atom_lines = {}   \n",
    "    for line in p:\n",
    "        cleanline = line.strip()\n",
    "        \n",
    "        if cleanline.startswith(\"HETATM\"):\n",
    "            atom_line = bi.PDBAtomLine.parse_string(cleanline)\n",
    "            if atom_line.resName != ligand:\n",
    "                continue\n",
    "            clean_name = atom_line.name.replace('_', '')\n",
    "            atom_lines[clean_name] = atom_line.copy_with_name(clean_name)"
   ]
  },
  {
   "cell_type": "code",
   "execution_count": 7,
   "id": "e766c56b-a84b-47a3-b4b3-3fa4296892c8",
   "metadata": {},
   "outputs": [],
   "source": [
    "with open(f'{ligand}_reordered.pdb', 'w') as r, open(f'{ligand}.pdb') as p:\n",
    "    atom_iter = iter(atoms)\n",
    "    for line in p:\n",
    "        cleanline = line.strip()\n",
    "        if cleanline.startswith(\"HETATM\"):\n",
    "            atom_line = bi.PDBAtomLine.parse_string(cleanline)\n",
    "            if atom_line.resName != ligand:\n",
    "                r.write(f'{atom_line.print(atom=\"HETATM\")}\\n')\n",
    "                continue\n",
    "            new_atom_line = atom_lines[next(atom_iter)].copy_with_serial(atom_line.serial)\n",
    "            r.write(f'{new_atom_line.print(atom=\"HETATM\")}\\n')\n",
    "            continue\n",
    "        r.write(f'{cleanline}\\n')"
   ]
  },
  {
   "cell_type": "code",
   "execution_count": 9,
   "id": "538795eb-d802-4e75-800d-4770fbc65884",
   "metadata": {},
   "outputs": [
    {
     "data": {
      "text/plain": [
       "{}"
      ]
     },
     "execution_count": 9,
     "metadata": {},
     "output_type": "execute_result"
    }
   ],
   "source": [
    "atom_lines"
   ]
  },
  {
   "cell_type": "code",
   "execution_count": null,
   "id": "adf77966-0171-4e84-a9ce-3c105b515d7d",
   "metadata": {},
   "outputs": [],
   "source": []
  }
 ],
 "metadata": {
  "kernelspec": {
   "display_name": "Python 3",
   "language": "python",
   "name": "python3"
  },
  "language_info": {
   "codemirror_mode": {
    "name": "ipython",
    "version": 3
   },
   "file_extension": ".py",
   "mimetype": "text/x-python",
   "name": "python",
   "nbconvert_exporter": "python",
   "pygments_lexer": "ipython3",
   "version": "3.8.8"
  }
 },
 "nbformat": 4,
 "nbformat_minor": 5
}
