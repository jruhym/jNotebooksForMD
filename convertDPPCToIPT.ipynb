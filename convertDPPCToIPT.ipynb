{
 "cells": [
  {
   "cell_type": "code",
   "execution_count": 9,
   "id": "172aa6e4-1882-468f-ac9b-a9f17677255d",
   "metadata": {},
   "outputs": [],
   "source": [
    "cd /home/drew/NBOH/Marzuoli/POPC"
   ]
  },
  {
   "cell_type": "code",
   "execution_count": 10,
   "id": "aa2e5d93-f8a7-4ae1-8f40-92233ab6fbf9",
   "metadata": {},
   "outputs": [],
   "source": [
    "import numpy as np\n",
    "import bioinf as bi\n",
    "\n",
    "topology = 'U0G_Hirshfeld.itp'\n",
    "structure = 'DesmondAssembledLigand.pdb'\n",
    "\n",
    "with open(topology) as t, open(structure) as s:\n",
    "    should_read = False\n",
    "    atoms = np.array([])\n",
    "    for t_line in t:\n",
    "        stripped = t_line.strip()\n",
    "        if stripped.startswith('; total charge of the molecule:'):\n",
    "            break\n",
    "        if stripped.startswith(';'):\n",
    "            continue\n",
    "        if stripped.startswith('[ atoms ]'):\n",
    "            should_read = True\n",
    "            continue\n",
    "        if not should_read:\n",
    "            continue\n",
    "        cleanline = stripped.split(';')[0]\n",
    "        _, _, _, _, atom, _, _,_ = cleanline.split()\n",
    "        atoms = np.append(atoms, [atom])\n",
    "    \n",
    "    atom_lines = np.array([])\n",
    "    for s_line in s:\n",
    "        atom_line = bi.parse_pdb_ATOM_line(s_line)\n",
    "        if not atom_line:\n",
    "            continue\n",
    "        atom_lines = np.append(atom_lines, atom_line)\n",
    "    \n",
    "    new_atom_lines = np.array([])\n",
    "    \n",
    "    def atom_line_with_name(name):\n",
    "        for atom_line in atom_lines:\n",
    "            if atom_line['name'] == name:\n",
    "                return atom_line\n",
    "        return None\n",
    "    \n",
    "    new_atom_lines = np.array([])\n",
    "    for i, atom in enumerate(atoms):\n",
    "        atom_line_dict = atom_line_with_name(atom)\n",
    "        atom_line = bi.PDBAtomLine.for_dict(atom_line_dict)\n",
    "        new_atom_line = atom_line.copy_with_serial(atom_lines[i]['serial'])\n",
    "        new_atom_lines = np.append(new_atom_lines, new_atom_line)\n",
    "    "
   ]
  },
  {
   "cell_type": "code",
   "execution_count": null,
   "id": "c33ddfe6-3465-4e08-a929-8e6d5c8027df",
   "metadata": {},
   "outputs": [],
   "source": [
    "for line in new_atom_lines:\n",
    "    print(line.print(\"HETATM\"))"
   ]
  },
  {
   "cell_type": "code",
   "execution_count": null,
   "id": "07eaae23-3992-46bb-ad19-9ae5dc465a17",
   "metadata": {},
   "outputs": [],
   "source": []
  }
 ],
 "metadata": {
  "kernelspec": {
   "display_name": "Python 3 (ipykernel)",
   "language": "python",
   "name": "python3"
  },
  "language_info": {
   "codemirror_mode": {
    "name": "ipython",
    "version": 3
   },
   "file_extension": ".py",
   "mimetype": "text/x-python",
   "name": "python",
   "nbconvert_exporter": "python",
   "pygments_lexer": "ipython3",
   "version": "3.8.8"
  }
 },
 "nbformat": 4,
 "nbformat_minor": 5
}
