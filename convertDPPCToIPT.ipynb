{
 "cells": [
  {
   "cell_type": "code",
   "execution_count": 9,
   "id": "172aa6e4-1882-468f-ac9b-a9f17677255d",
   "metadata": {},
   "outputs": [
    {
     "name": "stdout",
     "output_type": "stream",
     "text": [
      "/scr/drew/Serotonin/ligands/25N-N1-Nap/6WHA/noGProtein/IFD_1/tryIonicCapsInSolvent/RandysECL3-6WGTHybrid\n"
     ]
    }
   ],
   "source": [
    "cd  /home/drew/NAP/RandysECL3-6WGTHybrid"
   ]
  },
  {
   "cell_type": "code",
   "execution_count": 10,
   "id": "aa2e5d93-f8a7-4ae1-8f40-92233ab6fbf9",
   "metadata": {},
   "outputs": [],
   "source": [
    "import numpy as np\n",
    "import bioinf as bi\n",
    "\n",
    "molecule = 'NAP'\n",
    "\n",
    "with open(molecule + '.itp') as t, open(molecule + '.pdb') as s:\n",
    "    should_read = False\n",
    "    atoms = np.array([])\n",
    "    for t_line in t:\n",
    "        stripped = t_line.strip()\n",
    "        if stripped.startswith('; total charge of the molecule:'):\n",
    "            break\n",
    "        if stripped.startswith(';'):\n",
    "            continue\n",
    "        if stripped.startswith('[ atoms ]'):\n",
    "            should_read = True\n",
    "            continue\n",
    "        if not should_read:\n",
    "            continue\n",
    "        _, _, _, _, atom, _, _,_ = stripped.split()\n",
    "        atoms = np.append(atoms, [atom])\n",
    "    \n",
    "    atom_lines = np.array([])\n",
    "    for s_line in s:\n",
    "        atom_line = bi.parse_pdb_ATOM_line(s_line)\n",
    "        if not atom_line:\n",
    "            continue\n",
    "        atom_lines = np.append(atom_lines, atom_line)\n",
    "    \n",
    "    new_atom_lines = np.array([])\n",
    "    \n",
    "    def atom_line_with_name(name):\n",
    "        for atom_line in atom_lines:\n",
    "            if atom_line['name'] == name:\n",
    "                return atom_line\n",
    "        return None\n",
    "    \n",
    "    new_atom_lines = np.array([])\n",
    "    for i, atom in enumerate(atoms):\n",
    "        atom_line = bi.PDBAtomLine.for_dict(atom_line_with_name(atom))\n",
    "        new_atom_line = atom_line.copy_with_serial(atom_lines[i]['serial'])\n",
    "        new_atom_lines = np.append(new_atom_lines, new_atom_line)\n",
    "    "
   ]
  },
  {
   "cell_type": "code",
   "execution_count": 11,
   "id": "c33ddfe6-3465-4e08-a929-8e6d5c8027df",
   "metadata": {},
   "outputs": [
    {
     "name": "stdout",
     "output_type": "stream",
     "text": [
      "HETATM10373  O4  NAP   500      33.679  24.782  31.491  1.00  0.00           O1-\n",
      "HETATM10374  N1  NAP   500      34.146  25.314  32.494  1.00  0.00           N1+\n",
      "HETATM10375  O3  NAP   500      34.997  24.791  33.210  1.00  0.00           O  \n",
      "HETATM10376  C4  NAP   500      33.647  26.650  32.879  1.00  0.00           C  \n",
      "HETATM10377  C3  NAP   500      33.420  26.942  34.229  1.00  0.00           C  \n",
      "HETATM10378  H1  NAP   500      33.626  26.172  34.959  1.00  0.00           H  \n",
      "HETATM10379  C2  NAP   500      32.906  28.186  34.637  1.00  0.00           C  \n",
      "HETATM10380  O1  NAP   500      32.622  28.498  35.958  1.00  0.00           O  \n",
      "HETATM10381  C9  NAP   500      32.860  27.536  36.981  1.00  0.00           C  \n",
      "HETATM10382  H6  NAP   500      32.586  27.963  37.945  1.00  0.00           H  \n",
      "HETATM10383  H7  NAP   500      32.259  26.637  36.833  1.00  0.00           H  \n",
      "HETATM10384  H8  NAP   500      33.915  27.260  37.037  1.00  0.00           H  \n",
      "HETATM10385  C1  NAP   500      32.632  29.157  33.657  1.00  0.00           C  \n",
      "HETATM10386  C6  NAP   500      32.859  28.868  32.311  1.00  0.00           C  \n",
      "HETATM10387  H2  NAP   500      32.639  29.607  31.552  1.00  0.00           H  \n",
      "HETATM10388  C5  NAP   500      33.371  27.634  31.915  1.00  0.00           C  \n",
      "HETATM10389  O2  NAP   500      33.571  27.430  30.572  1.00  0.00           O  \n",
      "HETATM10390  C8  NAP   500      34.928  27.513  30.156  1.00  0.00           C  \n",
      "HETATM10391  H3  NAP   500      34.993  27.288  29.092  1.00  0.00           H  \n",
      "HETATM10392  H4  NAP   500      35.572  26.806  30.684  1.00  0.00           H  \n",
      "HETATM10393  H5  NAP   500      35.318  28.522  30.299  1.00  0.00           H  \n",
      "HETATM10394  C7  NAP   500      32.044  30.518  34.018  1.00  0.00           C  \n",
      "HETATM10395  H9  NAP   500      31.170  30.664  33.383  1.00  0.00           H  \n",
      "HETATM10396  H10 NAP   500      31.663  30.505  35.037  1.00  0.00           H  \n",
      "HETATM10397  C10 NAP   500      33.028  31.692  33.803  1.00  0.00           C  \n",
      "HETATM10398  H11 NAP   500      34.006  31.518  34.256  1.00  0.00           H  \n",
      "HETATM10399  H12 NAP   500      33.163  31.957  32.751  1.00  0.00           H  \n",
      "HETATM10402  N2  NAP   500      32.543  32.990  34.492  1.00  0.00           N1+\n",
      "HETATM10403  H13 NAP   500      32.585  32.846  35.490  1.00  0.00           H  \n",
      "HETATM10404  H23 NAP   500      33.223  33.719  34.284  1.00  0.00           H  \n",
      "HETATM10405  C11 NAP   500      31.113  33.474  34.156  1.00  0.00           C  \n",
      "HETATM10406  H14 NAP   500      31.118  34.544  34.342  1.00  0.00           H  \n",
      "HETATM10407  H15 NAP   500      30.999  33.323  33.081  1.00  0.00           H  \n",
      "HETATM10408  C13 NAP   500      30.009  32.816  34.990  1.00  0.00           C  \n",
      "HETATM10409  C14 NAP   500      29.038  32.038  34.356  1.00  0.00           C  \n",
      "HETATM10410  H17 NAP   500      29.040  31.933  33.280  1.00  0.00           H  \n",
      "HETATM10411  C15 NAP   500      28.066  31.371  35.089  1.00  0.00           C  \n",
      "HETATM10412  H18 NAP   500      27.337  30.760  34.577  1.00  0.00           H  \n",
      "HETATM10413  C12 NAP   500      28.040  31.453  36.475  1.00  0.00           C  \n",
      "HETATM10414  H16 NAP   500      27.285  30.919  37.037  1.00  0.00           H  \n",
      "HETATM10415  C16 NAP   500      28.975  32.260  37.159  1.00  0.00           C  \n",
      "HETATM10416  C17 NAP   500      29.968  32.978  36.416  1.00  0.00           C  \n",
      "HETATM10417  C18 NAP   500      30.867  33.816  37.139  1.00  0.00           C  \n",
      "HETATM10418  H19 NAP   500      31.616  34.393  36.619  1.00  0.00           H  \n",
      "HETATM10419  C19 NAP   500      30.790  33.913  38.527  1.00  0.00           C  \n",
      "HETATM10420  H20 NAP   500      31.474  34.550  39.066  1.00  0.00           H  \n",
      "HETATM10421  C20 NAP   500      29.836  33.198  39.237  1.00  0.00           C  \n",
      "HETATM10422  H21 NAP   500      29.791  33.287  40.310  1.00  0.00           H  \n",
      "HETATM10423  C21 NAP   500      28.933  32.379  38.570  1.00  0.00           C  \n",
      "HETATM10424  H22 NAP   500      28.191  31.831  39.131  1.00  0.00           H  \n"
     ]
    }
   ],
   "source": [
    "for line in new_atom_lines:\n",
    "    print(line.print(\"HETATM\"))"
   ]
  },
  {
   "cell_type": "markdown",
   "id": "af7ca2f7-8b8d-4a62-8424-91568f312cc2",
   "metadata": {},
   "source": []
  },
  {
   "cell_type": "code",
   "execution_count": 5,
   "id": "d167811d-c930-4842-b275-7900b9e4ba6e",
   "metadata": {},
   "outputs": [
    {
     "data": {
      "text/plain": [
       "'ATOM   4659  N07 U0G Z 500      39.543  31.487  23.587  1.00  0.00           N  '"
      ]
     },
     "execution_count": 5,
     "metadata": {},
     "output_type": "execute_result"
    }
   ],
   "source": [
    "new_atom_lines[0].print()"
   ]
  },
  {
   "cell_type": "code",
   "execution_count": null,
   "id": "07eaae23-3992-46bb-ad19-9ae5dc465a17",
   "metadata": {},
   "outputs": [],
   "source": []
  }
 ],
 "metadata": {
  "kernelspec": {
   "display_name": "Python 3",
   "language": "python",
   "name": "python3"
  },
  "language_info": {
   "codemirror_mode": {
    "name": "ipython",
    "version": 3
   },
   "file_extension": ".py",
   "mimetype": "text/x-python",
   "name": "python",
   "nbconvert_exporter": "python",
   "pygments_lexer": "ipython3",
   "version": "3.8.8"
  }
 },
 "nbformat": 4,
 "nbformat_minor": 5
}
