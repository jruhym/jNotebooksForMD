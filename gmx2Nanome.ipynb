{
 "cells": [
  {
   "cell_type": "code",
   "execution_count": 1,
   "id": "d0c631b5-5802-42d3-8033-8118001bf0f3",
   "metadata": {},
   "outputs": [
    {
     "name": "stdout",
     "output_type": "stream",
     "text": [
      "/scr/drew/Serotonin/6WHA/equilibration/tryIonicCapsInSolvent/di-S-bond_ECL3/6WGTTmplt4EXL3/Desmond/Hirshfeld/retry/blockMembraneBackdoor/retry/ATB\n"
     ]
    }
   ],
   "source": [
    "cd /home/drew/NBOH/di-S-bond_ECL3/6WGTTmplt4EXL3/Desmond/Hirshfeld/retry/blockMembraneBackdoor/retry/ATB"
   ]
  },
  {
   "cell_type": "code",
   "execution_count": 11,
   "id": "823ce0fa-a403-4448-9433-d06cab081ff7",
   "metadata": {},
   "outputs": [],
   "source": [
    "import bioinf as bi\n",
    "import numpy as np\n",
    "import sys\n",
    "\n",
    "def is_in_box(r, rmin, rmax):\n",
    "    return np.all(np.greater(r,rmin) * np.less(r,rmax))\n",
    "\n",
    "with open('every2nsFullSystem.pdb') as f, open('every2nsTrimmed.pdb', 'w') as o:\n",
    "    model = 0\n",
    "    min_ray = np.empty(3)\n",
    "    max_ray = np.empty(3)\n",
    "    atoms = np.array([])\n",
    "    old_resSeq = 0\n",
    "    for line in f:\n",
    "        cleanline = line.strip()\n",
    "        if cleanline.startswith('MODEL'):\n",
    "            _,model_str = cleanline.split()\n",
    "            model = int(model_str)\n",
    "            min_ray = np.full(3, sys.float_info.max)\n",
    "            max_ray = np.full(3, sys.float_info.min)\n",
    "            \n",
    "        elif cleanline.startswith('ATOM'):\n",
    "            atom_line = bi.PDBAtomLine.parse_string(cleanline)\n",
    "            atom = bi.PDBAtom(atom_line)\n",
    "            if atom_line.resName == 'ASPH':\n",
    "                atom_line = atom_line.copy_with(resName='ASP')\n",
    "            elif atom_line.resName.startswith('HIS'):\n",
    "                atom_line = atom_line.copy_with(resName='HIS')\n",
    "            if atom_line.chainID == \"A\":\n",
    "                min_ray = np.minimum(min_ray, atom.r)\n",
    "                max_ray = np.maximum(max_ray, atom.r)\n",
    "                o.write(f'{str(atom_line)}\\n')\n",
    "            else:\n",
    "                new_resName = atom_line.resName\n",
    "                if len(atom_line.resName) > 3:\n",
    "                    new_resName = 'U0G' if atom_line.resName == 'CMYH' else \"DPC\"\n",
    "                atom_line = atom_line.copy_with(kind='HETATM', chainID='', resName=new_resName)\n",
    "                if atom_line.resSeq == old_resSeq:\n",
    "                    atoms = np.append(atoms, bi.PDBAtom(atom_line))\n",
    "                else:\n",
    "                    rs = np.array([is_in_box(atom.r, min_ray, max_ray) for atom in atoms])\n",
    "                    if np.any(rs):\n",
    "                        for atom in atoms:\n",
    "                            o.write(f'{str(atom)}\\n')\n",
    "                    atoms = np.array([bi.PDBAtom(atom_line)])\n",
    "            old_resSeq = atom_line.resSeq\n",
    "            continue\n",
    "        o.write(f'{cleanline}\\n')\n",
    "                    \n",
    "                    \n",
    "            "
   ]
  },
  {
   "cell_type": "code",
   "execution_count": 16,
   "id": "57cded0e-6c84-4f1c-96e3-a602b2a1ca3b",
   "metadata": {},
   "outputs": [
    {
     "data": {
      "text/plain": [
       "array(['46.210', '51.970', '68.970'], dtype='<U6')"
      ]
     },
     "execution_count": 16,
     "metadata": {},
     "output_type": "execute_result"
    }
   ],
   "source": [
    "atom.r"
   ]
  },
  {
   "cell_type": "code",
   "execution_count": 8,
   "id": "50bc13d5-7e1d-4c2e-9e7a-7830cac50b65",
   "metadata": {},
   "outputs": [
    {
     "data": {
      "text/plain": [
       "array([], dtype=float64)"
      ]
     },
     "execution_count": 8,
     "metadata": {},
     "output_type": "execute_result"
    }
   ],
   "source": [
    "atoms"
   ]
  },
  {
   "cell_type": "code",
   "execution_count": null,
   "id": "b2382c1d-59b2-4a4f-b1c3-12f974d9f7dd",
   "metadata": {},
   "outputs": [],
   "source": []
  }
 ],
 "metadata": {
  "kernelspec": {
   "display_name": "Python 3",
   "language": "python",
   "name": "python3"
  },
  "language_info": {
   "codemirror_mode": {
    "name": "ipython",
    "version": 3
   },
   "file_extension": ".py",
   "mimetype": "text/x-python",
   "name": "python",
   "nbconvert_exporter": "python",
   "pygments_lexer": "ipython3",
   "version": "3.8.8"
  }
 },
 "nbformat": 4,
 "nbformat_minor": 5
}
