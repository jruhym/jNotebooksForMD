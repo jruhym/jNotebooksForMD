{
 "cells": [
  {
   "cell_type": "code",
   "execution_count": 1,
   "id": "300eb4d0-a064-4af6-b678-003068083f63",
   "metadata": {},
   "outputs": [],
   "source": [
    "cd ~/NBOH"
   ]
  },
  {
   "cell_type": "code",
   "execution_count": 2,
   "id": "b6f83c8c-3ff1-4b12-a639-5ca760d8bd9d",
   "metadata": {},
   "outputs": [],
   "source": [
    "from glob import glob\n",
    "import asyncio, nest_asyncio\n",
    "import bioinf as bi\n",
    "\n",
    "ligand_nickname = 'NBOH'\n",
    "ligand_alias = 'CMYH'\n",
    "lipid = 'DPPC'\n",
    "\n",
    "nest_asyncio.apply() #https://github.com/jupyter/notebook/issues/3397#issuecomment-419386811\n",
    "\n",
    "directories = glob(\"run??\")\n",
    "inputs = [f'{ligand_alias}', f'{lipid}']\n",
    "cmds = [\n",
    "    bi.run_async_shell_cmd(\n",
    "        f'cd {directory}; gmx pairdist -s md_0_1.tpr -f md_0_1.trr -n -tu ns -o {ligand_nickname}-membrane.xvg', \n",
    "        inputs, do_stdout=False, do_stderr=False, requires_kill=True\n",
    "    ) for directory in directories\n",
    "]\n",
    "\n",
    "async def main():\n",
    "    await asyncio.gather(*cmds)\n",
    "    \n",
    "asyncio.run(main())\n"
   ]
  },
  {
   "cell_type": "code",
   "execution_count": null,
   "id": "32664e73-b383-4191-8d3c-12017a8fa666",
   "metadata": {},
   "outputs": [],
   "source": []
  }
 ],
 "metadata": {
  "kernelspec": {
   "display_name": "Python 3 (ipykernel)",
   "language": "python",
   "name": "python3"
  },
  "language_info": {
   "codemirror_mode": {
    "name": "ipython",
    "version": 3
   },
   "file_extension": ".py",
   "mimetype": "text/x-python",
   "name": "python",
   "nbconvert_exporter": "python",
   "pygments_lexer": "ipython3",
   "version": "3.8.8"
  }
 },
 "nbformat": 4,
 "nbformat_minor": 5
}
