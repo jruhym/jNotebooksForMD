{
 "cells": [
  {
   "cell_type": "code",
   "execution_count": 19,
   "id": "7d0284bf-648d-4a42-aa0b-b4a76319340f",
   "metadata": {},
   "outputs": [
    {
     "name": "stdout",
     "output_type": "stream",
     "text": [
      "/scr/drew/Serotonin/ligands/25N-1-NAP/6WHA/noGProtein/IFD_1/play/tryIonicCapsInSolvent/traj\n"
     ]
    }
   ],
   "source": [
    "cd /home/drew/NAP/traj"
   ]
  },
  {
   "cell_type": "code",
   "execution_count": 20,
   "id": "b63161bc-958d-4d3f-bc50-bc7d4ce38efc",
   "metadata": {},
   "outputs": [],
   "source": [
    "with open(\"castp_raw.txt\") as f:\n",
    "    job_ids = []\n",
    "    for line in f:\n",
    "        cleanline = line.strip()\n",
    "        if not cleanline.startswith(\"echo\"):\n",
    "            continue\n",
    "        _,pair = cleanline.split(\":\")\n",
    "        _,job_id = pair.split(\",\")\n",
    "        job_ids.append(f'\"{job_id}\"')"
   ]
  },
  {
   "cell_type": "code",
   "execution_count": 21,
   "id": "5584c355-acda-48e0-940f-5ecf383e41ef",
   "metadata": {},
   "outputs": [
    {
     "data": {
      "text/plain": [
       "'[\"j_6233b66ed4da1\",\"j_6233b6804548a\",\"j_6233b691ace66\",\"j_6233b6a314ff8\",\"j_6233b6b4659a6\",\"j_6233b6c5af1f4\",\"j_6233b6d70f18f\",\"j_6233b6e874591\",\"j_6233b6f9cd763\",\"j_6233b70b234a3\",\"j_6233b71c71730\",\"j_6233b72dc04b4\",\"j_6233b73f153f7\",\"j_6233b7506dcb2\",\"j_6233b761ceb1b\",\"j_6233b7732e7f3\",\"j_6233b7848a5a0\",\"j_6233b795d9d42\",\"j_6233b7a72e358\",\"j_6233b7b889df7\",\"j_6233b7c9dc68b\",\"j_6233b7db315ea\",\"j_6233b7ec816c2\",\"j_6233b7fdcfe32\",\"j_6233b80f2a62f\",\"j_6233b820772c0\",\"j_6233b831c9d62\",\"j_6233b84328b07\",\"j_6233b8547b09f\",\"j_6233b865db1ad\",\"j_6233b87753354\",\"j_6233b888bb20a\",\"j_6233b89a158ba\",\"j_6233b8ab8144d\",\"j_6233b8bce060a\",\"j_6233b8ce4beb2\",\"j_6233b8dface59\",\"j_6233b8f10de8c\",\"j_6233b9026c80c\",\"j_6233b913c1ec9\",\"j_6233b9253031f\",\"j_6233b93689b62\",\"j_6233b94804e9a\",\"j_6233b9596641c\",\"j_6233b96ad28e7\",\"j_6233b97c524ab\",\"j_6233b98dbfbbc\",\"j_6233b99f45797\",\"j_6233b9b0b1c9b\",\"j_6233b9c213a89\",\"j_6233b9d37ea29\",\"j_6233b9e4f3c5c\",\"j_6233b9f6629b5\",\"j_6233ba07b6791\",\"j_6233ba19855fe\",\"j_6233ba2b1a7a8\",\"j_6233ba3d16a54\",\"j_6233ba4f1cd7b\",\"j_6233ba61112f2\",\"j_6233ba731db4a\",\"j_6233ba85221f5\",\"j_6233ba9717584\",\"j_6233baa911b97\",\"j_6233babb1621b\",\"j_6233bacd11a3e\",\"j_6233badf19bb0\",\"j_6233baf11a681\",\"j_6233bb0315da3\",\"j_6233bb15163a0\",\"j_6233bb2730317\",\"j_6233bb39129fe\",\"j_6233bb4b1d21c\",\"j_6233bb5d1e7bc\",\"j_6233bb6f18868\",\"j_6233bb81173a8\",\"j_6233bb931956a\",\"j_6233bba52a51b\",\"j_6233bbb73c1d9\",\"j_6233bbc92dacf\",\"j_6233bbdb1d7df\",\"j_6233bbed2896c\",\"j_6233bbff19c64\",\"j_6233bc11257c0\",\"j_6233bc231b3e8\",\"j_6233bc35229ea\",\"j_6233bc4725ba2\",\"j_6233bc5928fb2\",\"j_6233bc6b27ebf\",\"j_6233bc7d2002e\",\"j_6233bc8f205cf\",\"j_6233bca117ef4\",\"j_6233bcb328c82\",\"j_6233bcc51f669\",\"j_6233bcd72040f\",\"j_6233bce91921e\",\"j_6233bcfb205e2\",\"j_6233bd0d24876\",\"j_6233bd1f1dc58\",\"j_6233bd31230ac\",\"j_6233bd43293a3\",\"j_6233bd5519b81\",\"j_6233bd672ca1c\",\"j_6233bd791c1f8\",\"j_6233bd8b23531\",\"j_6233bd9d24aa0\",\"j_6233bdaf1c140\",\"j_6233bdc125f70\",\"j_6233bdd32bac2\",\"j_6233bde523fc7\",\"j_6233bdf7217e0\",\"j_6233be0920ca2\",\"j_6233be1b29ba3\",\"j_6233be2d23918\",\"j_6233be3f20692\",\"j_6233be511f10a\",\"j_6233be632c0fa\",\"j_6233be75282a5\",\"j_6233be872af19\",\"j_6233be9930dc8\",\"j_6233beab30a90\",\"j_6233bebd3c3cc\",\"j_6233becf28861\",\"j_6233bee13f739\",\"j_6233bef3274be\",\"j_6233bf053761a\",\"j_6233bf172868c\",\"j_6233bf2929c2d\",\"j_6233bf3b2e5b9\",\"j_6233bf4d32bd9\",\"j_6233bf5f2ee0f\",\"j_6233bf7135511\",\"j_6233bf832c5bf\",\"j_6233bf952c23a\",\"j_6233bfa72aaa5\",\"j_6233bfb938bcb\",\"j_6233bfcb3808b\",\"j_6233bfdd34ee2\",\"j_6233bfef3828b\",\"j_6233c0012ace0\",\"j_6233c0132f433\",\"j_6233c025404d6\",\"j_6233c0373b453\",\"j_6233c04943e4d\",\"j_6233c05b3773f\",\"j_6233c06d3b665\",\"j_6233c07f38918\",\"j_6233c091352b3\",\"j_6233c0a3372fc\",\"j_6233c0b536da9\",\"j_6233c0c7332a2\",\"j_6233c0d93a591\",\"j_6233c0eb31bbc\",\"j_6233c0fd3032e\",\"j_6233c10f38c71\",\"j_6233c1212c281\",\"j_6233c133399c3\",\"j_6233c145293c2\",\"j_6233c1573cb39\",\"j_6233c1693c49b\",\"j_6233c17b41c16\",\"j_6233c18d481fb\",\"j_6233c19f41e3a\",\"j_6233c1b143605\",\"j_6233c1c3406aa\",\"j_6233c1d537ef8\",\"j_6233c1e73ca25\",\"j_6233c1f937d0c\",\"j_6233c20b40e58\",\"j_6233c21d3f5f1\",\"j_6233c22f37d10\",\"j_6233c24139a31\",\"j_6233c2533e0c2\",\"j_6233c2653dba1\",\"j_6233c2773cf34\",\"j_6233c2894427c\",\"j_6233c29b3d422\",\"j_6233c2ad3cee2\",\"j_6233c2bf42f37\",\"j_6233c2d13e725\",\"j_6233c2e346ba8\",\"j_6233c2f5408df\",\"j_6233c3073fe01\",\"j_6233c3193dbba\",\"j_6233c32b41c38\",\"j_6233c33d3e1a9\",\"j_6233c34f43433\",\"j_6233c3613ee20\",\"j_6233c37344753\",\"j_6233c3854cd35\",\"j_6233c39745377\",\"j_6233c3a952822\",\"j_6233c3bb44df8\",\"j_6233c3cd48623\",\"j_6233c3df42b17\",\"j_6233c3f14c869\",\"j_6233c4034730a\",\"j_6233c41541389\",\"j_6233c4273b36d\",\"j_6233c43939786\",\"j_6233c44b31174\",\"j_6233c45d3825c\",\"j_6233c46f3b099\",\"j_6233c48138409\",\"j_6233c4933bb6d\",\"j_6233c4a5386f8\",\"j_6233c4b74d2c8\",\"j_6233c4c946ef9\",\"j_6233c4db45567\",\"j_6233c4ed49284\",\"j_6233c4ff4c8ea\",\"j_6233c5113fb99\",\"j_6233c5233e682\",\"j_6233c5354cadf\",\"j_6233c54751480\",\"j_6233c5593bcce\",\"j_6233c56b475f2\",\"j_6233c57d484f7\",\"j_6233c58f45bc5\",\"j_6233c5a14ff28\",\"j_6233c5b35a967\",\"j_6233c5c54f598\",\"j_6233c5d751c38\",\"j_6233c5e9549f9\",\"j_6233c5fb4b60a\",\"j_6233c60d491b1\",\"j_6233c61f48253\",\"j_6233c631406d8\",\"j_6233c64352fbd\",\"j_6233c6554c03a\",\"j_6233c667517f5\",\"j_6233c6794e5c1\",\"j_6233c68b54ce8\",\"j_6233c69d59ecf\",\"j_6233c6af5baa3\",\"j_6233c6c147d13\",\"j_6233c6d348837\",\"j_6233c6e54c55f\",\"j_6233c6f74cb29\",\"j_6233c7094d0ac\",\"j_6233c71b64edd\",\"j_6233c72d616f2\",\"j_6233c73f4f1a1\",\"j_6233c75159955\",\"j_6233c76357e5b\",\"j_6233c77548964\",\"j_6233c7874c121\",\"j_6233c7995435b\",\"j_6233c7ab49ba6\",\"j_6233c7bd532e7\",\"j_6233c7cf4ca51\",\"j_6233c7e148877\"]'"
      ]
     },
     "execution_count": 21,
     "metadata": {},
     "output_type": "execute_result"
    }
   ],
   "source": [
    "f\"[{','.join(job_ids)}]\""
   ]
  },
  {
   "cell_type": "code",
   "execution_count": 22,
   "id": "47d54413-9bf8-4dbc-8322-9a56df772341",
   "metadata": {},
   "outputs": [],
   "source": [
    "import csv\n",
    "import bioinf as bi\n",
    "\n",
    "with open(\"castp_analysis_raw.txt\") as f:\n",
    "    ic_volumes = []\n",
    "    ec_volumes = []\n",
    "    t = 0\n",
    "    for line in f:\n",
    "        cleanline = line.strip()\n",
    "        if not cleanline.startswith(\"echo\"):\n",
    "            continue\n",
    "        _, values = cleanline.split(\":\")\n",
    "        large_volume, large_resSeq, small_volume, small_resSeq = values.split(\",\")\n",
    "        resSeqs = (large_resSeq, small_resSeq)\n",
    "        with open(f\"everynsProt{t}.pdb\") as p:\n",
    "            zs = {}\n",
    "            for line in p:\n",
    "                cleanline = line.strip()\n",
    "                if not line.startswith(\"ATOM\"):\n",
    "                    continue\n",
    "                pdbline = bi.parse_pdb_ATOM_line(cleanline)\n",
    "                resSeq = pdbline[\"resSeq\"]\n",
    "                if not resSeq in resSeqs:\n",
    "                    continue\n",
    "                if pdbline[\"name\"] != \"CA\":\n",
    "                    continue\n",
    "                zs[resSeq] = float(pdbline[\"z\"])\n",
    "        ec_is_smaller = zs[small_resSeq] < zs[large_resSeq]\n",
    "        ic_volumes.append(large_volume if ec_is_smaller else small_volume)\n",
    "        ec_volumes.append(small_volume if ec_is_smaller else large_volume)\n",
    "        small_volumes.append(small_volume)\n",
    "        t += 1\n",
    "with open(\"ecVolume.dat\", 'w') as ec, open(\"icVolume.dat\", 'w') as ic:\n",
    "    for i,volume in enumerate(ic_volumes):\n",
    "        ic.write(f\"{volume}\\n\")\n",
    "        ec.write(f\"{ec_volumes[i]}\\n\")\n"
   ]
  },
  {
   "cell_type": "code",
   "execution_count": null,
   "id": "af6f4f56-f678-41c9-9c72-bccf09ad0395",
   "metadata": {},
   "outputs": [],
   "source": []
  }
 ],
 "metadata": {
  "kernelspec": {
   "display_name": "Python 3",
   "language": "python",
   "name": "python3"
  },
  "language_info": {
   "codemirror_mode": {
    "name": "ipython",
    "version": 3
   },
   "file_extension": ".py",
   "mimetype": "text/x-python",
   "name": "python",
   "nbconvert_exporter": "python",
   "pygments_lexer": "ipython3",
   "version": "3.8.8"
  }
 },
 "nbformat": 4,
 "nbformat_minor": 5
}
