{
 "cells": [
  {
   "cell_type": "code",
   "execution_count": 2,
   "id": "43c2e5f5-0419-41f4-8281-d53dcad257f5",
   "metadata": {},
   "outputs": [
    {
     "name": "stdout",
     "output_type": "stream",
     "text": [
      "/scr/drew/Serotonin/ligands/25N-N1-Nap/6WHA/noGProtein/IFD_1/tryIonicCapsInSolvent/6WGTECLTemplate\n"
     ]
    }
   ],
   "source": [
    "cd /home/drew/Nap"
   ]
  },
  {
   "cell_type": "code",
   "execution_count": 3,
   "id": "98bc3a8f-2529-467d-8016-e7e00346ee65",
   "metadata": {},
   "outputs": [
    {
     "name": "stdout",
     "output_type": "stream",
     "text": [
      "r123 r131 r132 r134 r135 r139 r151 r152 r155 r156 r159 r160 r210 r229 r234 r235 r238 r239 r242 r243 r244 r246 r335 r336 r339 r340 r341 r342 r343 r349 r365 r366 r369 r370 r372 r373\n"
     ]
    }
   ],
   "source": [
    "import subprocess as subp\n",
    "import numpy as np\n",
    "import bioinf as bi\n",
    "\n",
    "sidechain_dex = 1\n",
    "\n",
    "indices = np.genfromtxt('/home/drew/Projects/Serotonin/ligands/unionOfNBOHAndNapPocketIndices.csv', delimiter=',', names=True, dtype=int)\n",
    "index_types = indices.dtype.names\n",
    "groups = {f'r{x}': f'{sidechain_dex} & r {x}' for x in indices[\"pdb_indices\"]}\n",
    "\n",
    "bi.add_group_to_index(groups)\n",
    "    \n",
    "print(' '.join(groups.keys()))"
   ]
  },
  {
   "cell_type": "code",
   "execution_count": 4,
   "id": "40e40e98-0fe3-4a37-a959-b3848c05cfb2",
   "metadata": {
    "tags": []
   },
   "outputs": [
    {
     "ename": "NameError",
     "evalue": "name 'initial_last_dex' is not defined",
     "output_type": "error",
     "traceback": [
      "\u001b[0;31m---------------------------------------------------------------------------\u001b[0m",
      "\u001b[0;31mNameError\u001b[0m                                 Traceback (most recent call last)",
      "\u001b[0;32m<ipython-input-4-c5025e926def>\u001b[0m in \u001b[0;36m<module>\u001b[0;34m\u001b[0m\n\u001b[0;32m----> 1\u001b[0;31m \u001b[0mnext_index\u001b[0m \u001b[0;34m=\u001b[0m \u001b[0minitial_last_dex\u001b[0m \u001b[0;34m+\u001b[0m \u001b[0mlen\u001b[0m\u001b[0;34m(\u001b[0m\u001b[0mindices\u001b[0m\u001b[0;34m)\u001b[0m\u001b[0;34m\u001b[0m\u001b[0;34m\u001b[0m\u001b[0m\n\u001b[0m\u001b[1;32m      2\u001b[0m \u001b[0mgroup_dexes\u001b[0m \u001b[0;34m=\u001b[0m \u001b[0;34m' | '\u001b[0m\u001b[0;34m.\u001b[0m\u001b[0mjoin\u001b[0m\u001b[0;34m(\u001b[0m\u001b[0;34m[\u001b[0m\u001b[0;34mf'{x}'\u001b[0m \u001b[0;32mfor\u001b[0m \u001b[0mx\u001b[0m \u001b[0;32min\u001b[0m \u001b[0mrange\u001b[0m\u001b[0;34m(\u001b[0m\u001b[0minitial_last_dex\u001b[0m\u001b[0;34m,\u001b[0m \u001b[0mnext_index\u001b[0m\u001b[0;34m)\u001b[0m\u001b[0;34m]\u001b[0m\u001b[0;34m)\u001b[0m\u001b[0;34m\u001b[0m\u001b[0;34m\u001b[0m\u001b[0m\n\u001b[1;32m      3\u001b[0m \u001b[0mmake_pocket\u001b[0m \u001b[0;34m=\u001b[0m \u001b[0msubp\u001b[0m\u001b[0;34m.\u001b[0m\u001b[0mPopen\u001b[0m\u001b[0;34m(\u001b[0m\u001b[0mmake_ndex_options\u001b[0m\u001b[0;34m,\u001b[0m \u001b[0mstdin\u001b[0m\u001b[0;34m=\u001b[0m\u001b[0msubp\u001b[0m\u001b[0;34m.\u001b[0m\u001b[0mPIPE\u001b[0m\u001b[0;34m,\u001b[0m \u001b[0mstdout\u001b[0m\u001b[0;34m=\u001b[0m\u001b[0msubp\u001b[0m\u001b[0;34m.\u001b[0m\u001b[0mPIPE\u001b[0m\u001b[0;34m)\u001b[0m\u001b[0;34m\u001b[0m\u001b[0;34m\u001b[0m\u001b[0m\n\u001b[1;32m      4\u001b[0m \u001b[0mmake_pocket\u001b[0m\u001b[0;34m.\u001b[0m\u001b[0mcommunicate\u001b[0m\u001b[0;34m(\u001b[0m\u001b[0;34mf'{group_dexes}\\n name {next_index} pocket\\nq\\n'\u001b[0m\u001b[0;34m.\u001b[0m\u001b[0mencode\u001b[0m\u001b[0;34m(\u001b[0m\u001b[0;34m)\u001b[0m\u001b[0;34m)\u001b[0m\u001b[0;34m\u001b[0m\u001b[0;34m\u001b[0m\u001b[0m\n",
      "\u001b[0;31mNameError\u001b[0m: name 'initial_last_dex' is not defined"
     ]
    }
   ],
   "source": [
    "next_index = initial_last_dex + len(indices)\n",
    "group_dexes = ' | '.join([f'{x}' for x in range(initial_last_dex, next_index)])\n",
    "make_pocket = subp.Popen(make_ndex_options, stdin=subp.PIPE, stdout=subp.PIPE)\n",
    "make_pocket.communicate(f'{group_dexes}\\n name {next_index} pocket\\nq\\n'.encode())"
   ]
  },
  {
   "cell_type": "code",
   "execution_count": 4,
   "id": "2b5a8b22-ddb1-4734-b70c-212fee19cfc7",
   "metadata": {},
   "outputs": [
    {
     "name": "stdout",
     "output_type": "stream",
     "text": [
      "r123\n",
      "r131\n",
      "r132\n",
      "r134\n",
      "r135\n",
      "r139\n",
      "r151\n",
      "r152\n",
      "r155\n",
      "r156\n",
      "r159\n",
      "r160\n",
      "r210\n",
      "r229\n",
      "r234\n",
      "r235\n",
      "r238\n",
      "r239\n",
      "r242\n",
      "r243\n",
      "r244\n",
      "r246\n",
      "r335\n",
      "r336\n",
      "r339\n",
      "r340\n",
      "r341\n",
      "r342\n",
      "r343\n",
      "r349\n",
      "r365\n",
      "r366\n",
      "r369\n",
      "r370\n",
      "r372\n",
      "r373\n"
     ]
    }
   ],
   "source": [
    "print('\\n'.join(groups))"
   ]
  },
  {
   "cell_type": "code",
   "execution_count": 15,
   "id": "e14fbce6-0fbe-40bf-bd0c-097a2fa4f0af",
   "metadata": {},
   "outputs": [
    {
     "data": {
      "text/plain": [
       "39"
      ]
     },
     "execution_count": 15,
     "metadata": {},
     "output_type": "execute_result"
    }
   ],
   "source": [
    "initial_last_dex"
   ]
  },
  {
   "cell_type": "code",
   "execution_count": null,
   "id": "d420c526-5d83-408a-97a7-9eafdb8ba1b6",
   "metadata": {},
   "outputs": [],
   "source": []
  }
 ],
 "metadata": {
  "kernelspec": {
   "display_name": "Python 3",
   "language": "python",
   "name": "python3"
  },
  "language_info": {
   "codemirror_mode": {
    "name": "ipython",
    "version": 3
   },
   "file_extension": ".py",
   "mimetype": "text/x-python",
   "name": "python",
   "nbconvert_exporter": "python",
   "pygments_lexer": "ipython3",
   "version": "3.8.8"
  }
 },
 "nbformat": 4,
 "nbformat_minor": 5
}
