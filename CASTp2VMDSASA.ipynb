{
 "cells": [
  {
   "cell_type": "code",
   "execution_count": 1,
   "id": "99b8649c-3a3c-4a66-96e8-3562dbea4ad8",
   "metadata": {},
   "outputs": [
    {
     "name": "stdout",
     "output_type": "stream",
     "text": [
      "/scr/drew/Serotonin/NBOHvNapAnalysis/CASTp/6WHA\n"
     ]
    }
   ],
   "source": [
    "cd /home/drew/Projects/Serotonin/NBOHvNapAnalysis/CASTp/6WHA"
   ]
  },
  {
   "cell_type": "code",
   "execution_count": 2,
   "id": "e2b6d4c5-fca7-49bf-ae56-36a104b69a4a",
   "metadata": {},
   "outputs": [],
   "source": [
    "import bioinf as bi\n",
    "\n",
    "receptor_chain = \"A\"\n",
    "pdb = \"6WHA\"\n",
    "alpha_5_chain = \"B\"\n",
    "alpha_helix_lowest_resSeq = 224\n",
    "receptor_pocket_residues_dict = {}\n",
    "cutoff = 5\n",
    "\n",
    "class Pocket(object):\n",
    "    def __init__(self, pseudoresidue, pocket_id):\n",
    "        self._pseudoresidue = pseudoresidue\n",
    "        self._pocket_id = pocket_id\n",
    "        \n",
    "    def is_closer_than(self, d, residue):\n",
    "        return self._pseudoresidue.is_closer_than(d, residue)\n",
    "    \n",
    "    def get_resSeqs(self):\n",
    "        resSeqs_set = {atom.resSeq for atom in self._pseudoresidue.atoms}\n",
    "        sorted_resSeqs = [int(resSeq) for resSeq in resSeqs_set]\n",
    "        sorted_resSeqs.sort()\n",
    "        return [f'{resSeq}' for resSeq in sorted_resSeqs]\n",
    "    \n",
    "    def get_serials(self):\n",
    "        serials_set = {atom.serial for atom in self._pseudoresidue.atoms}\n",
    "        sorted_serials = [int(serial) for serial in serials_set]\n",
    "        sorted_serials.sort()\n",
    "        return [f'{serial}' for serial in sorted_serials]\n",
    "    \n",
    "    pocket_id = property(lambda self: self._pocket_id)\n",
    "    atoms = property(lambda self: self._pseudoresidue.atoms)\n"
   ]
  },
  {
   "cell_type": "code",
   "execution_count": 3,
   "id": "25af23f2-1cf4-4780-8fff-3bf9d6f2fd37",
   "metadata": {},
   "outputs": [],
   "source": [
    "with open(f'{pdb}_{receptor_chain}.poc') as f:\n",
    "    for line in f:\n",
    "        cleanline = line.strip()\n",
    "        atom_line = bi.PDBAtomLine.parse_string(cleanline)\n",
    "        if atom_line.chainID == receptor_chain and int(atom_line.resSeq) < 1000: #over 1000 used for added residues\n",
    "            pocket_id = cleanline.split()[-2]\n",
    "            atom_line_ids = receptor_pocket_residues_dict.get(pocket_id, [])\n",
    "            atom_line_ids.append(f'{atom_line.resSeq}_{atom_line.name}') #assume resSeq and name are consistent b/n poc and pdb\n",
    "            receptor_pocket_residues_dict[pocket_id] = atom_line_ids\n",
    "            \n",
    "chains_atom_lines = {}\n",
    "pockets_atom_lines = {}\n",
    "with open(f'{pdb}.pdb') as f:\n",
    "    for line in f:\n",
    "        cleanline = line.strip()\n",
    "        if not cleanline.startswith('ATOM'):\n",
    "            continue\n",
    "        atom_line = bi.PDBAtomLine.parse_string(cleanline)\n",
    "        chain_ID = atom_line.chainID\n",
    "        if chain_ID == receptor_chain:\n",
    "            for pocket_id, atom_ids in receptor_pocket_residues_dict.items():\n",
    "                if f'{atom_line.resSeq}_{atom_line.name}' in atom_ids:\n",
    "                    atom_lines = pockets_atom_lines.get(pocket_id, [])\n",
    "                    atom_lines.append(atom_line)\n",
    "                    pockets_atom_lines[pocket_id] = atom_lines\n",
    "                    break\n",
    "            continue\n",
    "        if chain_ID != alpha_5_chain:\n",
    "            continue\n",
    "        if int(atom_line.resSeq) < alpha_helix_lowest_resSeq:\n",
    "            continue\n",
    "        atom_lines = chains_atom_lines.get(chain_ID, [])\n",
    "        atom_lines.append(atom_line)\n",
    "        chains_atom_lines[chain_ID] = atom_lines\n",
    "\n",
    "gprot_chains = [bi.PDBProtein(v) for v in chains_atom_lines.values()]\n",
    "pockets = [Pocket(bi.PDBResidue([bi.PDBAtom(atom_line) for atom_line in atom_lines]),k) for (k,atom_lines) in pockets_atom_lines.items()]# if k in receptor_pocket_residues_dict.keys()]"
   ]
  },
  {
   "cell_type": "code",
   "execution_count": 4,
   "id": "26856d94-1b42-4c73-939d-274c080ab533",
   "metadata": {},
   "outputs": [],
   "source": [
    "close_gprot_pockets = [p for p in pockets if any([protein.is_closer_than(cutoff, p) for protein in gprot_chains])] \n",
    "# FIXME might inefficiently calculate whether each chain is closer than the cutoff before asking whether any are.\n",
    "#gprot_pocket_residues.sort()"
   ]
  },
  {
   "cell_type": "code",
   "execution_count": 12,
   "id": "18826a03-ec02-4043-a0a7-8f2f41067aa5",
   "metadata": {
    "tags": []
   },
   "outputs": [
    {
     "name": "stdout",
     "output_type": "stream",
     "text": [
      "resid 105 and name O or resid 105 and name CD2 or resid 107 and name CB or resid 107 and name CG or resid 107 and name OD1 or resid 107 and name ND2 or resid 108 and name CA or resid 108 and name C or resid 108 and name O or resid 108 and name CB or resid 109 and name N or resid 109 and name CA or resid 109 and name CB or resid 109 and name OG1 or resid 109 and name CG2 or resid 110 and name CG or resid 110 and name OD1 or resid 110 and name ND2 or resid 111 and name CD2 or resid 111 and name CE2 or resid 112 and name CB or resid 112 and name CD2 or resid 112 and name CE2 or resid 113 and name CG or resid 113 and name CD2 or resid 168 and name C or resid 168 and name O or resid 168 and name CB or resid 169 and name CA or resid 169 and name O or resid 169 and name CG1 or resid 169 and name CG2 or resid 169 and name CD1 or resid 172 and name O or resid 172 and name CB or resid 172 and name CG or resid 172 and name OD1 or resid 172 and name OD2 or resid 173 and name N or resid 173 and name CA or resid 173 and name CB or resid 173 and name CG or resid 173 and name CD or resid 173 and name NE or resid 173 and name CZ or resid 173 and name NH1 or resid 173 and name NH2 or resid 175 and name C or resid 175 and name O or resid 175 and name CB or resid 175 and name CG1 or resid 176 and name N or resid 176 and name CA or resid 176 and name O or resid 176 and name CB or resid 177 and name CA or resid 177 and name O or resid 177 and name CG1 or resid 177 and name CG2 or resid 177 and name CD1 or resid 179 and name O or resid 179 and name ND2 or resid 180 and name CA or resid 180 and name O or resid 180 and name CB or resid 180 and name CG or resid 181 and name C or resid 181 and name O or resid 184 and name N or resid 184 and name CA or resid 184 and name OG or resid 185 and name N or resid 185 and name CB or resid 186 and name N or resid 186 and name O or resid 186 and name CB or resid 187 and name CA or resid 187 and name CB or resid 187 and name OD1 or resid 187 and name ND2 or resid 189 and name CA or resid 189 and name C or resid 189 and name O or resid 191 and name N or resid 191 and name CB or resid 191 and name CG or resid 192 and name N or resid 192 and name CA or resid 192 and name CB or resid 195 and name CD or resid 195 and name CE or resid 195 and name NZ or resid 261 and name CD1 or resid 261 and name CD2 or resid 317 and name C or resid 317 and name O or resid 317 and name CB or resid 317 and name CG or resid 317 and name ND2 or resid 318 and name N or resid 318 and name CA or resid 318 and name CG or resid 318 and name OE2 or resid 320 and name C or resid 320 and name O or resid 320 and name CB or resid 321 and name N or resid 321 and name CA or resid 321 and name O or resid 321 and name CB or resid 324 and name CB or resid 324 and name CG1 or resid 324 and name CG2 or resid 325 and name CG or resid 325 and name CD1 or resid 325 and name CD2 or resid 328 and name CG1 or resid 328 and name CG2 or resid 379 and name O or resid 379 and name CG2 or resid 380 and name CA or resid 380 and name C or resid 380 and name O or resid 380 and name CD2 or resid 380 and name CE2 or resid 381 and name CA or resid 381 and name CB or resid 381 and name CG2 or resid 383 and name N or resid 383 and name C or resid 383 and name O or resid 383 and name CB or resid 383 and name CD1 or resid 384 and name N or resid 384 and name CA or resid 384 and name CB or resid 384 and name CG or resid 384 and name OD1 or resid 384 and name ND2 or resid 387 and name CD2 or resid 387 and name CE2 or resid 387 and name OH\n"
     ]
    }
   ],
   "source": [
    "#serial_set = {int(num) for sublist in [r.get_serials() for r in close_gprot_pockets] for num in sublist}\n",
    "# serials = list(serial_set)\n",
    "# serials.sort()\n",
    "atoms = [f'resid {atom.resSeq} and name {atom.name}' for sublist in [r.atoms for r in close_gprot_pockets] for atom in sublist]\n",
    "print(\" or \".join(atoms))"
   ]
  },
  {
   "cell_type": "code",
   "execution_count": 11,
   "id": "338bac47-da28-4f53-ae81-2958d613c5b9",
   "metadata": {},
   "outputs": [
    {
     "data": {
      "text/plain": [
       "['resid 105 and name O',\n",
       " 'resid 105 and name CD2',\n",
       " 'resid 107 and name CB',\n",
       " 'resid 107 and name CG',\n",
       " 'resid 107 and name OD1',\n",
       " 'resid 107 and name ND2',\n",
       " 'resid 108 and name CA',\n",
       " 'resid 108 and name C',\n",
       " 'resid 108 and name O',\n",
       " 'resid 108 and name CB',\n",
       " 'resid 109 and name N',\n",
       " 'resid 109 and name CA',\n",
       " 'resid 109 and name CB',\n",
       " 'resid 109 and name OG1',\n",
       " 'resid 109 and name CG2',\n",
       " 'resid 110 and name CG',\n",
       " 'resid 110 and name OD1',\n",
       " 'resid 110 and name ND2',\n",
       " 'resid 111 and name CD2',\n",
       " 'resid 111 and name CE2',\n",
       " 'resid 112 and name CB',\n",
       " 'resid 112 and name CD2',\n",
       " 'resid 112 and name CE2',\n",
       " 'resid 113 and name CG',\n",
       " 'resid 113 and name CD2',\n",
       " 'resid 168 and name C',\n",
       " 'resid 168 and name O',\n",
       " 'resid 168 and name CB',\n",
       " 'resid 169 and name CA',\n",
       " 'resid 169 and name O',\n",
       " 'resid 169 and name CG1',\n",
       " 'resid 169 and name CG2',\n",
       " 'resid 169 and name CD1',\n",
       " 'resid 172 and name O',\n",
       " 'resid 172 and name CB',\n",
       " 'resid 172 and name CG',\n",
       " 'resid 172 and name OD1',\n",
       " 'resid 172 and name OD2',\n",
       " 'resid 173 and name N',\n",
       " 'resid 173 and name CA',\n",
       " 'resid 173 and name CB',\n",
       " 'resid 173 and name CG',\n",
       " 'resid 173 and name CD',\n",
       " 'resid 173 and name NE',\n",
       " 'resid 173 and name CZ',\n",
       " 'resid 173 and name NH1',\n",
       " 'resid 173 and name NH2',\n",
       " 'resid 175 and name C',\n",
       " 'resid 175 and name O',\n",
       " 'resid 175 and name CB',\n",
       " 'resid 175 and name CG1',\n",
       " 'resid 176 and name N',\n",
       " 'resid 176 and name CA',\n",
       " 'resid 176 and name O',\n",
       " 'resid 176 and name CB',\n",
       " 'resid 177 and name CA',\n",
       " 'resid 177 and name O',\n",
       " 'resid 177 and name CG1',\n",
       " 'resid 177 and name CG2',\n",
       " 'resid 177 and name CD1',\n",
       " 'resid 179 and name O',\n",
       " 'resid 179 and name ND2',\n",
       " 'resid 180 and name CA',\n",
       " 'resid 180 and name O',\n",
       " 'resid 180 and name CB',\n",
       " 'resid 180 and name CG',\n",
       " 'resid 181 and name C',\n",
       " 'resid 181 and name O',\n",
       " 'resid 184 and name N',\n",
       " 'resid 184 and name CA',\n",
       " 'resid 184 and name OG',\n",
       " 'resid 185 and name N',\n",
       " 'resid 185 and name CB',\n",
       " 'resid 186 and name N',\n",
       " 'resid 186 and name O',\n",
       " 'resid 186 and name CB',\n",
       " 'resid 187 and name CA',\n",
       " 'resid 187 and name CB',\n",
       " 'resid 187 and name OD1',\n",
       " 'resid 187 and name ND2',\n",
       " 'resid 189 and name CA',\n",
       " 'resid 189 and name C',\n",
       " 'resid 189 and name O',\n",
       " 'resid 191 and name N',\n",
       " 'resid 191 and name CB',\n",
       " 'resid 191 and name CG',\n",
       " 'resid 192 and name N',\n",
       " 'resid 192 and name CA',\n",
       " 'resid 192 and name CB',\n",
       " 'resid 195 and name CD',\n",
       " 'resid 195 and name CE',\n",
       " 'resid 195 and name NZ',\n",
       " 'resid 261 and name CD1',\n",
       " 'resid 261 and name CD2',\n",
       " 'resid 317 and name C',\n",
       " 'resid 317 and name O',\n",
       " 'resid 317 and name CB',\n",
       " 'resid 317 and name CG',\n",
       " 'resid 317 and name ND2',\n",
       " 'resid 318 and name N',\n",
       " 'resid 318 and name CA',\n",
       " 'resid 318 and name CG',\n",
       " 'resid 318 and name OE2',\n",
       " 'resid 320 and name C',\n",
       " 'resid 320 and name O',\n",
       " 'resid 320 and name CB',\n",
       " 'resid 321 and name N',\n",
       " 'resid 321 and name CA',\n",
       " 'resid 321 and name O',\n",
       " 'resid 321 and name CB',\n",
       " 'resid 324 and name CB',\n",
       " 'resid 324 and name CG1',\n",
       " 'resid 324 and name CG2',\n",
       " 'resid 325 and name CG',\n",
       " 'resid 325 and name CD1',\n",
       " 'resid 325 and name CD2',\n",
       " 'resid 328 and name CG1',\n",
       " 'resid 328 and name CG2',\n",
       " 'resid 379 and name O',\n",
       " 'resid 379 and name CG2',\n",
       " 'resid 380 and name CA',\n",
       " 'resid 380 and name C',\n",
       " 'resid 380 and name O',\n",
       " 'resid 380 and name CD2',\n",
       " 'resid 380 and name CE2',\n",
       " 'resid 381 and name CA',\n",
       " 'resid 381 and name CB',\n",
       " 'resid 381 and name CG2',\n",
       " 'resid 383 and name N',\n",
       " 'resid 383 and name C',\n",
       " 'resid 383 and name O',\n",
       " 'resid 383 and name CB',\n",
       " 'resid 383 and name CD1',\n",
       " 'resid 384 and name N',\n",
       " 'resid 384 and name CA',\n",
       " 'resid 384 and name CB',\n",
       " 'resid 384 and name CG',\n",
       " 'resid 384 and name OD1',\n",
       " 'resid 384 and name ND2',\n",
       " 'resid 387 and name CD2',\n",
       " 'resid 387 and name CE2',\n",
       " 'resid 387 and name OH']"
      ]
     },
     "execution_count": 11,
     "metadata": {},
     "output_type": "execute_result"
    }
   ],
   "source": [
    "atoms"
   ]
  },
  {
   "cell_type": "code",
   "execution_count": 27,
   "id": "2b97c329-a79f-45be-bcb1-293a9570243a",
   "metadata": {},
   "outputs": [
    {
     "ename": "KeyError",
     "evalue": "'14'",
     "output_type": "error",
     "traceback": [
      "\u001b[0;31m---------------------------------------------------------------------------\u001b[0m",
      "\u001b[0;31mKeyError\u001b[0m                                  Traceback (most recent call last)",
      "\u001b[0;32m/tmp/ipykernel_32539/3013280184.py\u001b[0m in \u001b[0;36m<module>\u001b[0;34m\u001b[0m\n\u001b[0;32m----> 1\u001b[0;31m \u001b[0mchains_atom_lines\u001b[0m\u001b[0;34m[\u001b[0m\u001b[0;34m'14'\u001b[0m\u001b[0;34m]\u001b[0m\u001b[0;34m\u001b[0m\u001b[0;34m\u001b[0m\u001b[0m\n\u001b[0m",
      "\u001b[0;31mKeyError\u001b[0m: '14'"
     ]
    }
   ],
   "source": [
    "chains_atom_lines['14']"
   ]
  },
  {
   "cell_type": "code",
   "execution_count": null,
   "id": "5589ce59-6ee8-4d9d-a641-f4cba9ffac6e",
   "metadata": {},
   "outputs": [],
   "source": []
  }
 ],
 "metadata": {
  "kernelspec": {
   "display_name": "Python 3 (ipykernel)",
   "language": "python",
   "name": "python3"
  },
  "language_info": {
   "codemirror_mode": {
    "name": "ipython",
    "version": 3
   },
   "file_extension": ".py",
   "mimetype": "text/x-python",
   "name": "python",
   "nbconvert_exporter": "python",
   "pygments_lexer": "ipython3",
   "version": "3.8.8"
  }
 },
 "nbformat": 4,
 "nbformat_minor": 5
}
