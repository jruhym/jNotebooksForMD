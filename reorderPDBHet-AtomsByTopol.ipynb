{
 "cells": [
  {
   "cell_type": "code",
   "execution_count": 1,
   "id": "172aa6e4-1882-468f-ac9b-a9f17677255d",
   "metadata": {},
   "outputs": [
    {
     "name": "stdout",
     "output_type": "stream",
     "text": [
      "/scr/drew/Serotonin/ligands/25N-N1-Nap/6WHA/noGProtein/IFD_1/tryIonicCapsInSolvent/6WGTECLTemplate\n"
     ]
    }
   ],
   "source": [
    "cd /home/drew/NAP/6WGTECLTemplate/"
   ]
  },
  {
   "cell_type": "code",
   "execution_count": 4,
   "id": "aa2e5d93-f8a7-4ae1-8f40-92233ab6fbf9",
   "metadata": {},
   "outputs": [],
   "source": [
    "import numpy as np\n",
    "import bioinf as bi\n",
    "\n",
    "molecule = 'NAP'\n",
    "\n",
    "with open(molecule + '.itp') as t, open(molecule + '.pdb') as s:\n",
    "    should_read = False\n",
    "    atoms = np.array([])\n",
    "    for t_line in t:\n",
    "        stripped = t_line.strip()\n",
    "        if stripped.startswith('; total charge of the molecule:'):\n",
    "            break\n",
    "        if stripped.startswith(';'):\n",
    "            continue\n",
    "        if stripped.startswith('[ atoms ]'):\n",
    "            should_read = True\n",
    "            continue\n",
    "        if not should_read:\n",
    "            continue\n",
    "        _, _, _, _, atom, _, _,_ = stripped.split()\n",
    "        atoms = np.append(atoms, [atom])\n",
    "    \n",
    "    atom_lines = np.array([])\n",
    "    for s_line in s:\n",
    "        atom_line = bi.parse_pdb_ATOM_line(s_line)\n",
    "        if not atom_line:\n",
    "            continue\n",
    "        atom_lines = np.append(atom_lines, atom_line)\n",
    "    \n",
    "    new_atom_lines = np.array([])\n",
    "    \n",
    "    def atom_line_with_name(name):\n",
    "        for atom_line in atom_lines:\n",
    "            if atom_line['name'] == name:\n",
    "                return atom_line\n",
    "        return None\n",
    "    \n",
    "    new_atom_lines = np.array([])\n",
    "    for i, atom in enumerate(atoms):\n",
    "        atom_line = bi.PDBAtomLine.for_dict(atom_line_with_name(atom))\n",
    "        new_atom_line = atom_line.copy_with_serial(atom_lines[i]['serial'])\n",
    "        new_atom_lines = np.append(new_atom_lines, new_atom_line)\n",
    "    "
   ]
  },
  {
   "cell_type": "code",
   "execution_count": 5,
   "id": "c33ddfe6-3465-4e08-a929-8e6d5c8027df",
   "metadata": {
    "tags": []
   },
   "outputs": [
    {
     "name": "stdout",
     "output_type": "stream",
     "text": [
      "HETATM    1  O4  NAP   500      27.451  24.406  56.130  1.00  0.00           O1-\n",
      "HETATM    2  N1  NAP   500      27.107  24.986  55.106  1.00  0.00           N1+\n",
      "HETATM    3  O3  NAP   500      26.220  24.582  54.357  1.00  0.00           O  \n",
      "HETATM    4  C4  NAP   500      27.807  26.232  54.733  1.00  0.00           C  \n",
      "HETATM    5  C3  NAP   500      28.129  26.472  53.392  1.00  0.00           C  \n",
      "HETATM    6  H1  NAP   500      27.845  25.730  52.659  1.00  0.00           H  \n",
      "HETATM    7  C2  NAP   500      28.832  27.625  52.998  1.00  0.00           C  \n",
      "HETATM    8  O1  NAP   500      29.211  27.876  51.688  1.00  0.00           O  \n",
      "HETATM    9  C9  NAP   500      28.880  26.946  50.662  1.00  0.00           C  \n",
      "HETATM   10  H6  NAP   500      29.251  27.316  49.707  1.00  0.00           H  \n",
      "HETATM   11  H7  NAP   500      29.339  25.971  50.841  1.00  0.00           H  \n",
      "HETATM   12  H8  NAP   500      27.799  26.822  50.563  1.00  0.00           H  \n",
      "HETATM   13  C1  NAP   500      29.202  28.558  53.981  1.00  0.00           C  \n",
      "HETATM   14  C6  NAP   500      28.882  28.323  55.319  1.00  0.00           C  \n",
      "HETATM   15  H2  NAP   500      29.175  29.032  56.081  1.00  0.00           H  \n",
      "HETATM   16  C5  NAP   500      28.182  27.179  55.701  1.00  0.00           C  \n",
      "HETATM   17  O2  NAP   500      27.900  27.023  57.035  1.00  0.00           O  \n",
      "HETATM   18  C8  NAP   500      26.553  27.304  57.393  1.00  0.00           C  \n",
      "HETATM   19  H3  NAP   500      26.413  27.104  58.455  1.00  0.00           H  \n",
      "HETATM   20  H4  NAP   500      25.837  26.691  56.844  1.00  0.00           H  \n",
      "HETATM   21  H5  NAP   500      26.319  28.357  57.228  1.00  0.00           H  \n",
      "HETATM   22  C7  NAP   500      29.994  29.816  53.638  1.00  0.00           C  \n",
      "HETATM   23  H9  NAP   500      30.852  29.844  54.307  1.00  0.00           H  \n",
      "HETATM   24  H10 NAP   500      30.410  29.737  52.635  1.00  0.00           H  \n",
      "HETATM   25  C10 NAP   500      29.180  31.122  53.803  1.00  0.00           C  \n",
      "HETATM   26  H11 NAP   500      28.207  31.084  53.310  1.00  0.00           H  \n",
      "HETATM   27  H12 NAP   500      29.042  31.417  54.846  1.00  0.00           H  \n",
      "HETATM   28  N2  NAP   500      29.875  32.328  53.126  1.00  0.00           N1+\n",
      "HETATM   29  H13 NAP   500      29.853  32.180  52.127  1.00  0.00           H  \n",
      "HETATM   30  H23 NAP   500      29.298  33.150  53.300  1.00  0.00           H  \n",
      "HETATM   31  C11 NAP   500      31.345  32.607  53.518  1.00  0.00           C  \n",
      "HETATM   32  H14 NAP   500      31.501  33.664  53.326  1.00  0.00           H  \n",
      "HETATM   33  H15 NAP   500      31.392  32.455  54.598  1.00  0.00           H  \n",
      "HETATM   34  C13 NAP   500      32.375  31.788  52.736  1.00  0.00           C  \n",
      "HETATM   35  C14 NAP   500      33.199  30.887  53.416  1.00  0.00           C  \n",
      "HETATM   36  H17 NAP   500      33.138  30.796  54.491  1.00  0.00           H  \n",
      "HETATM   37  C15 NAP   500      34.094  30.077  52.729  1.00  0.00           C  \n",
      "HETATM   38  H18 NAP   500      34.706  29.375  53.275  1.00  0.00           H  \n",
      "HETATM   39  C12 NAP   500      34.188  30.138  51.344  1.00  0.00           C  \n",
      "HETATM   40  H16 NAP   500      34.880  29.494  50.818  1.00  0.00           H  \n",
      "HETATM   41  C16 NAP   500      33.407  31.062  50.617  1.00  0.00           C  \n",
      "HETATM   42  C17 NAP   500      32.497  31.924  51.312  1.00  0.00           C  \n",
      "HETATM   43  C18 NAP   500      31.758  32.872  50.546  1.00  0.00           C  \n",
      "HETATM   44  H19 NAP   500      31.080  33.557  51.030  1.00  0.00           H  \n",
      "HETATM   45  C19 NAP   500      31.906  32.940  49.162  1.00  0.00           C  \n",
      "HETATM   46  H20 NAP   500      31.343  33.662  48.591  1.00  0.00           H  \n",
      "HETATM   47  C20 NAP   500      32.775  32.087  48.499  1.00  0.00           C  \n",
      "HETATM   48  H21 NAP   500      32.876  32.155  47.426  1.00  0.00           H  \n",
      "HETATM   49  C21 NAP   500      33.522  31.156  49.207  1.00  0.00           C  \n",
      "HETATM   50  H22 NAP   500      34.201  30.500  48.682  1.00  0.00           H  \n"
     ]
    }
   ],
   "source": [
    "for line in new_atom_lines:\n",
    "    print(line.print(\"HETATM\"))"
   ]
  },
  {
   "cell_type": "code",
   "execution_count": 5,
   "id": "d167811d-c930-4842-b275-7900b9e4ba6e",
   "metadata": {},
   "outputs": [
    {
     "data": {
      "text/plain": [
       "'ATOM   4659  N07 U0G Z 500      39.543  31.487  23.587  1.00  0.00           N  '"
      ]
     },
     "execution_count": 5,
     "metadata": {},
     "output_type": "execute_result"
    }
   ],
   "source": [
    "new_atom_lines[0].print()"
   ]
  },
  {
   "cell_type": "code",
   "execution_count": 4,
   "id": "07eaae23-3992-46bb-ad19-9ae5dc465a17",
   "metadata": {},
   "outputs": [
    {
     "data": {
      "text/plain": [
       "array([{'ATOM': 'HETATM', 'serial': '2847', 'blank1': ' ', 'name': 'N07', 'altLoc': '', 'resName': 'CMYH', 'blank2': ' ', 'chainID': '', 'resSeq': '1', 'iCode': '', 'blank3': '   ', 'x': '30.365', 'y': '26.704', 'z': '59.876', 'occupancy': '1.00', 'tempFactor': '0.50', 'blank4': '          ', 'element': 'N', 'charge': ''},\n",
       "       {'ATOM': 'HETATM', 'serial': '2848', 'blank1': ' ', 'name': 'C06', 'altLoc': '', 'resName': 'CMYH', 'blank2': ' ', 'chainID': '', 'resSeq': '1', 'iCode': '', 'blank3': '   ', 'x': '30.658', 'y': '27.609', 'z': '59.216', 'occupancy': '1.00', 'tempFactor': '0.50', 'blank4': '          ', 'element': 'C', 'charge': ''},\n",
       "       {'ATOM': 'HETATM', 'serial': '2849', 'blank1': ' ', 'name': 'C05', 'altLoc': '', 'resName': 'CMYH', 'blank2': ' ', 'chainID': '', 'resSeq': '1', 'iCode': '', 'blank3': '   ', 'x': '31.027', 'y': '28.751', 'z': '58.384', 'occupancy': '1.00', 'tempFactor': '0.50', 'blank4': '          ', 'element': 'C', 'charge': ''},\n",
       "       {'ATOM': 'HETATM', 'serial': '2850', 'blank1': ' ', 'name': 'C04', 'altLoc': '', 'resName': 'CMYH', 'blank2': ' ', 'chainID': '', 'resSeq': '1', 'iCode': '', 'blank3': '   ', 'x': '31.089', 'y': '28.582', 'z': '56.996', 'occupancy': '1.00', 'tempFactor': '0.50', 'blank4': '          ', 'element': 'C', 'charge': ''},\n",
       "       {'ATOM': 'HETATM', 'serial': '2851', 'blank1': ' ', 'name': 'HC04', 'altLoc': '', 'resName': 'CMYH', 'blank2': ' ', 'chainID': '', 'resSeq': '1', 'iCode': '', 'blank3': '   ', 'x': '30.876', 'y': '27.608', 'z': '56.580', 'occupancy': '1.00', 'tempFactor': '0.50', 'blank4': '          ', 'element': 'H', 'charge': ''},\n",
       "       {'ATOM': 'HETATM', 'serial': '2852', 'blank1': ' ', 'name': 'C03', 'altLoc': '', 'resName': 'CMYH', 'blank2': ' ', 'chainID': '', 'resSeq': '1', 'iCode': '', 'blank3': '   ', 'x': '31.411', 'y': '29.657', 'z': '56.149', 'occupancy': '1.00', 'tempFactor': '0.50', 'blank4': '          ', 'element': 'C', 'charge': ''},\n",
       "       {'ATOM': 'HETATM', 'serial': '2853', 'blank1': ' ', 'name': 'O02', 'altLoc': '', 'resName': 'CMYH', 'blank2': ' ', 'chainID': '', 'resSeq': '1', 'iCode': '', 'blank3': '   ', 'x': '31.467', 'y': '29.551', 'z': '54.770', 'occupancy': '1.00', 'tempFactor': '0.50', 'blank4': '          ', 'element': 'O', 'charge': ''},\n",
       "       {'ATOM': 'HETATM', 'serial': '2854', 'blank1': ' ', 'name': 'C01', 'altLoc': '', 'resName': 'CMYH', 'blank2': ' ', 'chainID': '', 'resSeq': '1', 'iCode': '', 'blank3': '   ', 'x': '31.178', 'y': '28.308', 'z': '54.146', 'occupancy': '1.00', 'tempFactor': '0.50', 'blank4': '          ', 'element': 'C', 'charge': ''},\n",
       "       {'ATOM': 'HETATM', 'serial': '2855', 'blank1': ' ', 'name': 'H011', 'altLoc': '', 'resName': 'CMYH', 'blank2': ' ', 'chainID': '', 'resSeq': '1', 'iCode': '', 'blank3': '   ', 'x': '31.259', 'y': '28.424', 'z': '53.064', 'occupancy': '1.00', 'tempFactor': '0.50', 'blank4': '          ', 'element': 'H', 'charge': ''},\n",
       "       {'ATOM': 'HETATM', 'serial': '2856', 'blank1': ' ', 'name': 'H012', 'altLoc': '', 'resName': 'CMYH', 'blank2': ' ', 'chainID': '', 'resSeq': '1', 'iCode': '', 'blank3': '   ', 'x': '31.888', 'y': '27.537', 'z': '54.452', 'occupancy': '1.00', 'tempFactor': '0.50', 'blank4': '          ', 'element': 'H', 'charge': ''},\n",
       "       {'ATOM': 'HETATM', 'serial': '2857', 'blank1': ' ', 'name': 'H013', 'altLoc': '', 'resName': 'CMYH', 'blank2': ' ', 'chainID': '', 'resSeq': '1', 'iCode': '', 'blank3': '   ', 'x': '30.163', 'y': '27.974', 'z': '54.367', 'occupancy': '1.00', 'tempFactor': '0.50', 'blank4': '          ', 'element': 'H', 'charge': ''},\n",
       "       {'ATOM': 'HETATM', 'serial': '2858', 'blank1': ' ', 'name': 'C12', 'altLoc': '', 'resName': 'CMYH', 'blank2': ' ', 'chainID': '', 'resSeq': '1', 'iCode': '', 'blank3': '   ', 'x': '31.674', 'y': '30.914', 'z': '56.719', 'occupancy': '1.00', 'tempFactor': '0.50', 'blank4': '          ', 'element': 'C', 'charge': ''},\n",
       "       {'ATOM': 'HETATM', 'serial': '2859', 'blank1': ' ', 'name': 'C11', 'altLoc': '', 'resName': 'CMYH', 'blank2': ' ', 'chainID': '', 'resSeq': '1', 'iCode': '', 'blank3': '   ', 'x': '31.608', 'y': '31.073', 'z': '58.105', 'occupancy': '1.00', 'tempFactor': '0.50', 'blank4': '          ', 'element': 'C', 'charge': ''},\n",
       "       {'ATOM': 'HETATM', 'serial': '2860', 'blank1': ' ', 'name': 'HC11', 'altLoc': '', 'resName': 'CMYH', 'blank2': ' ', 'chainID': '', 'resSeq': '1', 'iCode': '', 'blank3': '   ', 'x': '31.785', 'y': '32.051', 'z': '58.521', 'occupancy': '1.00', 'tempFactor': '0.50', 'blank4': '          ', 'element': 'H', 'charge': ''},\n",
       "       {'ATOM': 'HETATM', 'serial': '2861', 'blank1': ' ', 'name': 'C08', 'altLoc': '', 'resName': 'CMYH', 'blank2': ' ', 'chainID': '', 'resSeq': '1', 'iCode': '', 'blank3': '   ', 'x': '31.297', 'y': '30.003', 'z': '58.957', 'occupancy': '1.00', 'tempFactor': '0.50', 'blank4': '          ', 'element': 'C', 'charge': ''},\n",
       "       {'ATOM': 'HETATM', 'serial': '2862', 'blank1': ' ', 'name': 'O09', 'altLoc': '', 'resName': 'CMYH', 'blank2': ' ', 'chainID': '', 'resSeq': '1', 'iCode': '', 'blank3': '   ', 'x': '31.234', 'y': '30.134', 'z': '60.336', 'occupancy': '1.00', 'tempFactor': '0.50', 'blank4': '          ', 'element': 'O', 'charge': ''},\n",
       "       {'ATOM': 'HETATM', 'serial': '2863', 'blank1': ' ', 'name': 'C10', 'altLoc': '', 'resName': 'CMYH', 'blank2': ' ', 'chainID': '', 'resSeq': '1', 'iCode': '', 'blank3': '   ', 'x': '31.494', 'y': '31.398', 'z': '60.940', 'occupancy': '1.00', 'tempFactor': '0.50', 'blank4': '          ', 'element': 'C', 'charge': ''},\n",
       "       {'ATOM': 'HETATM', 'serial': '2864', 'blank1': ' ', 'name': 'H101', 'altLoc': '', 'resName': 'CMYH', 'blank2': ' ', 'chainID': '', 'resSeq': '1', 'iCode': '', 'blank3': '   ', 'x': '31.411', 'y': '31.300', 'z': '62.023', 'occupancy': '1.00', 'tempFactor': '0.50', 'blank4': '          ', 'element': 'H', 'charge': ''},\n",
       "       {'ATOM': 'HETATM', 'serial': '2865', 'blank1': ' ', 'name': 'H102', 'altLoc': '', 'resName': 'CMYH', 'blank2': ' ', 'chainID': '', 'resSeq': '1', 'iCode': '', 'blank3': '   ', 'x': '32.501', 'y': '31.753', 'z': '60.718', 'occupancy': '1.00', 'tempFactor': '0.50', 'blank4': '          ', 'element': 'H', 'charge': ''},\n",
       "       {'ATOM': 'HETATM', 'serial': '2866', 'blank1': ' ', 'name': 'H103', 'altLoc': '', 'resName': 'CMYH', 'blank2': ' ', 'chainID': '', 'resSeq': '1', 'iCode': '', 'blank3': '   ', 'x': '30.770', 'y': '32.149', 'z': '60.623', 'occupancy': '1.00', 'tempFactor': '0.50', 'blank4': '          ', 'element': 'H', 'charge': ''},\n",
       "       {'ATOM': 'HETATM', 'serial': '2867', 'blank1': ' ', 'name': 'C13', 'altLoc': '', 'resName': 'CMYH', 'blank2': ' ', 'chainID': '', 'resSeq': '1', 'iCode': '', 'blank3': '   ', 'x': '31.965', 'y': '32.132', 'z': '55.839', 'occupancy': '1.00', 'tempFactor': '0.50', 'blank4': '          ', 'element': 'C', 'charge': ''},\n",
       "       {'ATOM': 'HETATM', 'serial': '2868', 'blank1': ' ', 'name': 'H131', 'altLoc': '', 'resName': 'CMYH', 'blank2': ' ', 'chainID': '', 'resSeq': '1', 'iCode': '', 'blank3': '   ', 'x': '31.021', 'y': '32.660', 'z': '55.691', 'occupancy': '1.00', 'tempFactor': '0.50', 'blank4': '          ', 'element': 'H', 'charge': ''},\n",
       "       {'ATOM': 'HETATM', 'serial': '2869', 'blank1': ' ', 'name': 'H132', 'altLoc': '', 'resName': 'CMYH', 'blank2': ' ', 'chainID': '', 'resSeq': '1', 'iCode': '', 'blank3': '   ', 'x': '32.300', 'y': '31.788', 'z': '54.862', 'occupancy': '1.00', 'tempFactor': '0.50', 'blank4': '          ', 'element': 'H', 'charge': ''},\n",
       "       {'ATOM': 'HETATM', 'serial': '2870', 'blank1': ' ', 'name': 'C14', 'altLoc': '', 'resName': 'CMYH', 'blank2': ' ', 'chainID': '', 'resSeq': '1', 'iCode': '', 'blank3': '   ', 'x': '33.040', 'y': '33.093', 'z': '56.382', 'occupancy': '1.00', 'tempFactor': '0.50', 'blank4': '          ', 'element': 'C', 'charge': ''},\n",
       "       {'ATOM': 'HETATM', 'serial': '2871', 'blank1': ' ', 'name': 'H141', 'altLoc': '', 'resName': 'CMYH', 'blank2': ' ', 'chainID': '', 'resSeq': '1', 'iCode': '', 'blank3': '   ', 'x': '34.008', 'y': '32.598', 'z': '56.462', 'occupancy': '1.00', 'tempFactor': '0.50', 'blank4': '          ', 'element': 'H', 'charge': ''},\n",
       "       {'ATOM': 'HETATM', 'serial': '2872', 'blank1': ' ', 'name': 'H142', 'altLoc': '', 'resName': 'CMYH', 'blank2': ' ', 'chainID': '', 'resSeq': '1', 'iCode': '', 'blank3': '   ', 'x': '32.783', 'y': '33.585', 'z': '57.320', 'occupancy': '1.00', 'tempFactor': '0.50', 'blank4': '          ', 'element': 'H', 'charge': ''},\n",
       "       {'ATOM': 'HETATM', 'serial': '2873', 'blank1': ' ', 'name': 'N15', 'altLoc': '', 'resName': 'CMYH', 'blank2': ' ', 'chainID': '', 'resSeq': '1', 'iCode': '', 'blank3': '   ', 'x': '33.202', 'y': '34.264', 'z': '55.397', 'occupancy': '1.00', 'tempFactor': '0.50', 'blank4': '          ', 'element': 'N', 'charge': ''},\n",
       "       {'ATOM': 'HETATM', 'serial': '2874', 'blank1': ' ', 'name': 'H151', 'altLoc': '', 'resName': 'CMYH', 'blank2': ' ', 'chainID': '', 'resSeq': '1', 'iCode': '', 'blank3': '   ', 'x': '32.500', 'y': '34.966', 'z': '55.602', 'occupancy': '1.00', 'tempFactor': '0.50', 'blank4': '          ', 'element': 'H', 'charge': ''},\n",
       "       {'ATOM': 'HETATM', 'serial': '2875', 'blank1': ' ', 'name': 'H152', 'altLoc': '', 'resName': 'CMYH', 'blank2': ' ', 'chainID': '', 'resSeq': '1', 'iCode': '', 'blank3': '   ', 'x': '33.004', 'y': '33.929', 'z': '54.461', 'occupancy': '1.00', 'tempFactor': '0.50', 'blank4': '          ', 'element': 'H', 'charge': ''},\n",
       "       {'ATOM': 'HETATM', 'serial': '2876', 'blank1': ' ', 'name': 'C16', 'altLoc': '', 'resName': 'CMYH', 'blank2': ' ', 'chainID': '', 'resSeq': '1', 'iCode': '', 'blank3': '   ', 'x': '34.600', 'y': '34.900', 'z': '55.369', 'occupancy': '1.00', 'tempFactor': '0.50', 'blank4': '          ', 'element': 'C', 'charge': ''},\n",
       "       {'ATOM': 'HETATM', 'serial': '2877', 'blank1': ' ', 'name': 'H161', 'altLoc': '', 'resName': 'CMYH', 'blank2': ' ', 'chainID': '', 'resSeq': '1', 'iCode': '', 'blank3': '   ', 'x': '34.488', 'y': '35.785', 'z': '54.742', 'occupancy': '1.00', 'tempFactor': '0.50', 'blank4': '          ', 'element': 'H', 'charge': ''},\n",
       "       {'ATOM': 'HETATM', 'serial': '2878', 'blank1': ' ', 'name': 'H162', 'altLoc': '', 'resName': 'CMYH', 'blank2': ' ', 'chainID': '', 'resSeq': '1', 'iCode': '', 'blank3': '   ', 'x': '34.783', 'y': '35.213', 'z': '56.395', 'occupancy': '1.00', 'tempFactor': '0.50', 'blank4': '          ', 'element': 'H', 'charge': ''},\n",
       "       {'ATOM': 'HETATM', 'serial': '2879', 'blank1': ' ', 'name': 'C17', 'altLoc': '', 'resName': 'CMYH', 'blank2': ' ', 'chainID': '', 'resSeq': '1', 'iCode': '', 'blank3': '   ', 'x': '35.664', 'y': '33.961', 'z': '54.816', 'occupancy': '1.00', 'tempFactor': '0.50', 'blank4': '          ', 'element': 'C', 'charge': ''},\n",
       "       {'ATOM': 'HETATM', 'serial': '2880', 'blank1': ' ', 'name': 'C22', 'altLoc': '', 'resName': 'CMYH', 'blank2': ' ', 'chainID': '', 'resSeq': '1', 'iCode': '', 'blank3': '   ', 'x': '35.700', 'y': '33.639', 'z': '53.445', 'occupancy': '1.00', 'tempFactor': '0.50', 'blank4': '          ', 'element': 'C', 'charge': ''},\n",
       "       {'ATOM': 'HETATM', 'serial': '2881', 'blank1': ' ', 'name': 'O23', 'altLoc': '', 'resName': 'CMYH', 'blank2': ' ', 'chainID': '', 'resSeq': '1', 'iCode': '', 'blank3': '   ', 'x': '34.763', 'y': '34.131', 'z': '52.587', 'occupancy': '1.00', 'tempFactor': '0.50', 'blank4': '          ', 'element': 'O', 'charge': ''},\n",
       "       {'ATOM': 'HETATM', 'serial': '2882', 'blank1': ' ', 'name': 'HO23', 'altLoc': '', 'resName': 'CMYH', 'blank2': ' ', 'chainID': '', 'resSeq': '1', 'iCode': '', 'blank3': '   ', 'x': '34.954', 'y': '33.911', 'z': '51.676', 'occupancy': '1.00', 'tempFactor': '0.50', 'blank4': '          ', 'element': 'H', 'charge': ''},\n",
       "       {'ATOM': 'HETATM', 'serial': '2883', 'blank1': ' ', 'name': 'C21', 'altLoc': '', 'resName': 'CMYH', 'blank2': ' ', 'chainID': '', 'resSeq': '1', 'iCode': '', 'blank3': '   ', 'x': '36.687', 'y': '32.768', 'z': '52.967', 'occupancy': '1.00', 'tempFactor': '0.50', 'blank4': '          ', 'element': 'C', 'charge': ''},\n",
       "       {'ATOM': 'HETATM', 'serial': '2884', 'blank1': ' ', 'name': 'HC21', 'altLoc': '', 'resName': 'CMYH', 'blank2': ' ', 'chainID': '', 'resSeq': '1', 'iCode': '', 'blank3': '   ', 'x': '36.729', 'y': '32.518', 'z': '51.917', 'occupancy': '1.00', 'tempFactor': '0.50', 'blank4': '          ', 'element': 'H', 'charge': ''},\n",
       "       {'ATOM': 'HETATM', 'serial': '2885', 'blank1': ' ', 'name': 'C20', 'altLoc': '', 'resName': 'CMYH', 'blank2': ' ', 'chainID': '', 'resSeq': '1', 'iCode': '', 'blank3': '   ', 'x': '37.623', 'y': '32.214', 'z': '53.839', 'occupancy': '1.00', 'tempFactor': '0.50', 'blank4': '          ', 'element': 'C', 'charge': ''},\n",
       "       {'ATOM': 'HETATM', 'serial': '2886', 'blank1': ' ', 'name': 'HC20', 'altLoc': '', 'resName': 'CMYH', 'blank2': ' ', 'chainID': '', 'resSeq': '1', 'iCode': '', 'blank3': '   ', 'x': '38.384', 'y': '31.544', 'z': '53.462', 'occupancy': '1.00', 'tempFactor': '0.50', 'blank4': '          ', 'element': 'H', 'charge': ''},\n",
       "       {'ATOM': 'HETATM', 'serial': '2887', 'blank1': ' ', 'name': 'C19', 'altLoc': '', 'resName': 'CMYH', 'blank2': ' ', 'chainID': '', 'resSeq': '1', 'iCode': '', 'blank3': '   ', 'x': '37.587', 'y': '32.539', 'z': '55.194', 'occupancy': '1.00', 'tempFactor': '0.50', 'blank4': '          ', 'element': 'C', 'charge': ''},\n",
       "       {'ATOM': 'HETATM', 'serial': '2888', 'blank1': ' ', 'name': 'HC19', 'altLoc': '', 'resName': 'CMYH', 'blank2': ' ', 'chainID': '', 'resSeq': '1', 'iCode': '', 'blank3': '   ', 'x': '38.324', 'y': '32.130', 'z': '55.864', 'occupancy': '1.00', 'tempFactor': '0.50', 'blank4': '          ', 'element': 'H', 'charge': ''},\n",
       "       {'ATOM': 'HETATM', 'serial': '2889', 'blank1': ' ', 'name': 'C18', 'altLoc': '', 'resName': 'CMYH', 'blank2': ' ', 'chainID': '', 'resSeq': '1', 'iCode': '', 'blank3': '   ', 'x': '36.614', 'y': '33.407', 'z': '55.682', 'occupancy': '1.00', 'tempFactor': '0.50', 'blank4': '          ', 'element': 'C', 'charge': ''},\n",
       "       {'ATOM': 'HETATM', 'serial': '2890', 'blank1': ' ', 'name': 'HC18', 'altLoc': '', 'resName': 'CMYH', 'blank2': ' ', 'chainID': '', 'resSeq': '1', 'iCode': '', 'blank3': '   ', 'x': '36.601', 'y': '33.643', 'z': '56.736', 'occupancy': '1.00', 'tempFactor': '0.50', 'blank4': '          ', 'element': 'H', 'charge': ''}],\n",
       "      dtype=object)"
      ]
     },
     "execution_count": 4,
     "metadata": {},
     "output_type": "execute_result"
    }
   ],
   "source": [
    "atom_lines"
   ]
  },
  {
   "cell_type": "code",
   "execution_count": null,
   "id": "9310917e-572e-4f18-afc1-9fef8b959ac4",
   "metadata": {},
   "outputs": [],
   "source": []
  }
 ],
 "metadata": {
  "kernelspec": {
   "display_name": "Python 3",
   "language": "python",
   "name": "python3"
  },
  "language_info": {
   "codemirror_mode": {
    "name": "ipython",
    "version": 3
   },
   "file_extension": ".py",
   "mimetype": "text/x-python",
   "name": "python",
   "nbconvert_exporter": "python",
   "pygments_lexer": "ipython3",
   "version": "3.8.8"
  }
 },
 "nbformat": 4,
 "nbformat_minor": 5
}
