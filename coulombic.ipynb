{
 "cells": [
  {
   "cell_type": "code",
   "execution_count": 1,
   "id": "e9f50ced-8e2d-41bf-80a6-2e28b9fc0b29",
   "metadata": {},
   "outputs": [],
   "source": [
    "import bioinf as bi\n",
    "import numpy as np"
   ]
  },
  {
   "cell_type": "code",
   "execution_count": 4,
   "id": "e78e6011-0d0f-4503-a435-db81128fb7db",
   "metadata": {},
   "outputs": [],
   "source": [
    "structure_file = \"fullSystemStart.pdb\"\n",
    "trajectory_file = \"everynsFullSystem.pdb\"\n",
    "atoms = np.array([])\n",
    "with open(structure_file, 'r') as f:\n",
    "    for line in f:\n",
    "        cleanline = line.strip()\n",
    "        if cleanline.startswith(\"ATOM\"):\n",
    "            atom = bi.PDBAtomLine.parse_string(cleanline)\n",
    "            atoms = np.append(atoms, atom)\n",
    "        \n",
    "count = len(atoms)\n",
    "with open(trajectory_file, 'r') as i, open(\"newTrajectory.pdb\", 'w') as o:\n",
    "    atom_dex = 0\n",
    "    for line in i:\n",
    "        cleanline = line.strip()\n",
    "        atom_dex = 0 if cleanline.startswith('MODEL') else atom_dex\n",
    "        if cleanline.startswith(\"ATOM\") and atom_dex < count:\n",
    "            frame_atom = bi.PDBAtomLine.parse_string(cleanline)\n",
    "            struct_atom = atoms[atom_dex]\n",
    "            copy = frame_atom.copy_with_chainID(struct_atom.chainID)\n",
    "            cleanline = copy.print()\n",
    "            atom_dex += 1\n",
    "        o.write(f'{cleanline}\\n')"
   ]
  },
  {
   "cell_type": "code",
   "execution_count": 6,
   "id": "15a828e9-b307-4ada-b165-f46437888aa3",
   "metadata": {},
   "outputs": [
    {
     "data": {
      "text/plain": [
       "'ATOM   2918  O2  VAL B 246      28.374  42.245  57.318  1.00  0.00           O  '"
      ]
     },
     "execution_count": 6,
     "metadata": {},
     "output_type": "execute_result"
    }
   ],
   "source": [
    "copy.print()"
   ]
  },
  {
   "cell_type": "code",
   "execution_count": null,
   "id": "ca4b73f5-3685-46d1-ad5d-8622c3412dee",
   "metadata": {},
   "outputs": [],
   "source": []
  }
 ],
 "metadata": {
  "kernelspec": {
   "display_name": "Python 3",
   "language": "python",
   "name": "python3"
  },
  "language_info": {
   "codemirror_mode": {
    "name": "ipython",
    "version": 3
   },
   "file_extension": ".py",
   "mimetype": "text/x-python",
   "name": "python",
   "nbconvert_exporter": "python",
   "pygments_lexer": "ipython3",
   "version": "3.8.8"
  }
 },
 "nbformat": 4,
 "nbformat_minor": 5
}
