{
 "cells": [
  {
   "cell_type": "code",
   "execution_count": 8,
   "id": "da57c51f-e179-439c-a78d-10e79d127990",
   "metadata": {},
   "outputs": [
    {
     "name": "stdout",
     "output_type": "stream",
     "text": [
      "/scr/drew/Serotonin/ligands/psilocin/6WGT\n"
     ]
    }
   ],
   "source": [
    "cd /home/drew/Projects/Serotonin/ligands/psilocin/6WGT"
   ]
  },
  {
   "cell_type": "code",
   "execution_count": 13,
   "id": "28296e95-5e97-420c-b674-38b516743250",
   "metadata": {},
   "outputs": [],
   "source": [
    "import bioinf as bi\n",
    "\n",
    "with open(\"water.csv\") as f, open(\"water_.pdb\", 'w') as w:\n",
    "    for line in f:\n",
    "        cleanline = line.strip()\n",
    "        parts = cleanline.split(',')\n",
    "        parts[0] = parts[0].strip(\"HETATM\")\n",
    "        atomline = bi.PDBAtomLine(parts[0], parts[1], \"\", parts[2], \"\", parts[3], \"\", parts[4], parts[5], parts[6], parts[7], parts[8], parts[9], '', kind=\"HETATM\")\n",
    "        w.write(f'{str(atomline)}\\n')"
   ]
  },
  {
   "cell_type": "code",
   "execution_count": 11,
   "id": "44466c7e-4ab8-4b56-bf19-d9d5c47fa98c",
   "metadata": {},
   "outputs": [
    {
     "data": {
      "text/plain": [
       "['29761', 'H17', '91Q', '500', '27.136', '23.843', '58.437', '1', '0', 'H']"
      ]
     },
     "execution_count": 11,
     "metadata": {},
     "output_type": "execute_result"
    }
   ],
   "source": [
    "parts"
   ]
  },
  {
   "cell_type": "code",
   "execution_count": null,
   "id": "db666d2e-4c29-47d0-82bc-74e2e180e6e0",
   "metadata": {},
   "outputs": [],
   "source": []
  }
 ],
 "metadata": {
  "kernelspec": {
   "display_name": "Python 3 (ipykernel)",
   "language": "python",
   "name": "python3"
  },
  "language_info": {
   "codemirror_mode": {
    "name": "ipython",
    "version": 3
   },
   "file_extension": ".py",
   "mimetype": "text/x-python",
   "name": "python",
   "nbconvert_exporter": "python",
   "pygments_lexer": "ipython3",
   "version": "3.8.8"
  }
 },
 "nbformat": 4,
 "nbformat_minor": 5
}
