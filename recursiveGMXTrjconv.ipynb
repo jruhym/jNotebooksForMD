{
 "cells": [
  {
   "cell_type": "code",
   "execution_count": 3,
   "id": "300eb4d0-a064-4af6-b678-003068083f63",
   "metadata": {},
   "outputs": [
    {
     "name": "stdout",
     "output_type": "stream",
     "text": [
      "/scr/drew/Serotonin/6WHA/equilibration/tryIonicCapsInSolvent/di-S-bond_ECL3/6WGTTmplt4EXL3/Desmond/Hirshfeld/retry/blockMembraneBackdoor/retry/branchOffEm2\n"
     ]
    }
   ],
   "source": [
    "cd /home/drew/NBOH/branchOffEm2"
   ]
  },
  {
   "cell_type": "code",
   "execution_count": 4,
   "id": "b6f83c8c-3ff1-4b12-a639-5ca760d8bd9d",
   "metadata": {},
   "outputs": [
    {
     "name": "stdout",
     "output_type": "stream",
     "text": [
      "['cd run13; rm everyns.pdb*; gunzip everynsFullSystem.pdb.gz; gmx trjconv -s md_0_1.tpr -o everyns.pdb -f everynsFullSystem.pdb -n; gzip everyns*.pdb' exited with 0]\n",
      "['cd run04; rm everyns.pdb*; gunzip everynsFullSystem.pdb.gz; gmx trjconv -s md_0_1.tpr -o everyns.pdb -f everynsFullSystem.pdb -n; gzip everyns*.pdb' exited with 0]\n",
      "['cd run12; rm everyns.pdb*; gunzip everynsFullSystem.pdb.gz; gmx trjconv -s md_0_1.tpr -o everyns.pdb -f everynsFullSystem.pdb -n; gzip everyns*.pdb' exited with 0]\n",
      "['cd run09; rm everyns.pdb*; gunzip everynsFullSystem.pdb.gz; gmx trjconv -s md_0_1.tpr -o everyns.pdb -f everynsFullSystem.pdb -n; gzip everyns*.pdb' exited with 0]\n",
      "['cd run03; rm everyns.pdb*; gunzip everynsFullSystem.pdb.gz; gmx trjconv -s md_0_1.tpr -o everyns.pdb -f everynsFullSystem.pdb -n; gzip everyns*.pdb' exited with 0]\n",
      "['cd run05; rm everyns.pdb*; gunzip everynsFullSystem.pdb.gz; gmx trjconv -s md_0_1.tpr -o everyns.pdb -f everynsFullSystem.pdb -n; gzip everyns*.pdb' exited with 0]\n",
      "['cd run08; rm everyns.pdb*; gunzip everynsFullSystem.pdb.gz; gmx trjconv -s md_0_1.tpr -o everyns.pdb -f everynsFullSystem.pdb -n; gzip everyns*.pdb' exited with 0]\n",
      "['cd run10; rm everyns.pdb*; gunzip everynsFullSystem.pdb.gz; gmx trjconv -s md_0_1.tpr -o everyns.pdb -f everynsFullSystem.pdb -n; gzip everyns*.pdb' exited with 0]\n",
      "['cd run07; rm everyns.pdb*; gunzip everynsFullSystem.pdb.gz; gmx trjconv -s md_0_1.tpr -o everyns.pdb -f everynsFullSystem.pdb -n; gzip everyns*.pdb' exited with 0]\n",
      "['cd run11; rm everyns.pdb*; gunzip everynsFullSystem.pdb.gz; gmx trjconv -s md_0_1.tpr -o everyns.pdb -f everynsFullSystem.pdb -n; gzip everyns*.pdb' exited with 0]\n",
      "['cd run06; rm everyns.pdb*; gunzip everynsFullSystem.pdb.gz; gmx trjconv -s md_0_1.tpr -o everyns.pdb -f everynsFullSystem.pdb -n; gzip everyns*.pdb' exited with 0]\n",
      "['cd run02; rm everyns.pdb*; gunzip everynsFullSystem.pdb.gz; gmx trjconv -s md_0_1.tpr -o everyns.pdb -f everynsFullSystem.pdb -n; gzip everyns*.pdb' exited with 0]\n",
      "['cd run01; rm everyns.pdb*; gunzip everynsFullSystem.pdb.gz; gmx trjconv -s md_0_1.tpr -o everyns.pdb -f everynsFullSystem.pdb -n; gzip everyns*.pdb' exited with 0]\n"
     ]
    }
   ],
   "source": [
    "from glob import glob\n",
    "import asyncio, nest_asyncio\n",
    "import bioinf as bi\n",
    "\n",
    "nest_asyncio.apply() #https://github.com/jupyter/notebook/issues/3397#issuecomment-419386811\n",
    "\n",
    "directories = glob(\"run??\")\n",
    "\n",
    "resname = \"CMYH\"\n",
    "\n",
    "cmds = [\n",
    "    bi.run_async_shell_cmd(\n",
    "        #f'cd {directory}; rm everynsFullSystem.pdb*; gmx trjconv -s md_0_1.tpr -o everynsFullSystem.pdb -f md_0_1.xtc -fit rot+trans -n -skip 100; gzip everynsFullSystem.pdb', \n",
    "        #['73', 'System'], do_stdout=False, do_stderr=False, requires_kill=False\n",
    "        f'cd {directory}; rm everyns.pdb*; gunzip everynsFullSystem.pdb.gz; gmx trjconv -s md_0_1.tpr -o everyns.pdb -f everynsFullSystem.pdb -n; gzip everyns*.pdb', \n",
    "        [f'Protein_{resname}'], do_stdout=False, do_stderr=False, requires_kill=False\n",
    "    ) for directory in directories\n",
    "]\n",
    "\n",
    "async def main():\n",
    "    await asyncio.gather(*cmds)\n",
    "    \n",
    "asyncio.run(main())\n"
   ]
  },
  {
   "cell_type": "code",
   "execution_count": 3,
   "id": "6ad47cba-d90e-4acb-81d2-cf58ec11b1a4",
   "metadata": {},
   "outputs": [
    {
     "data": {
      "text/plain": [
       "['CMYH', 'DPPC', '\\x03']"
      ]
     },
     "execution_count": 3,
     "metadata": {},
     "output_type": "execute_result"
    }
   ],
   "source": [
    "inputs"
   ]
  },
  {
   "cell_type": "code",
   "execution_count": null,
   "id": "32664e73-b383-4191-8d3c-12017a8fa666",
   "metadata": {},
   "outputs": [],
   "source": []
  }
 ],
 "metadata": {
  "kernelspec": {
   "display_name": "Python 3 (ipykernel)",
   "language": "python",
   "name": "python3"
  },
  "language_info": {
   "codemirror_mode": {
    "name": "ipython",
    "version": 3
   },
   "file_extension": ".py",
   "mimetype": "text/x-python",
   "name": "python",
   "nbconvert_exporter": "python",
   "pygments_lexer": "ipython3",
   "version": "3.8.8"
  }
 },
 "nbformat": 4,
 "nbformat_minor": 5
}
