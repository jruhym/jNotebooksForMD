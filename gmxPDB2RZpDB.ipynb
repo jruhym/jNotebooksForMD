{
 "cells": [
  {
   "cell_type": "code",
   "execution_count": 6,
   "id": "eb4769f9-a8ba-4a2b-b03f-c10dd7af67b2",
   "metadata": {},
   "outputs": [
    {
     "name": "stdout",
     "output_type": "stream",
     "text": [
      "/scr/drew/Serotonin/6WHA/equilibration/tryIonicCapsInSolvent/di-S-bond_ECL3/6WGTTmplt4EXL3/Desmond/Hirshfeld/retry/blockMembraneBackdoor/retry\n"
     ]
    }
   ],
   "source": [
    "cd ~/NBOH"
   ]
  },
  {
   "cell_type": "code",
   "execution_count": 7,
   "id": "11d599c9-0379-4bab-b522-459bf009f556",
   "metadata": {},
   "outputs": [],
   "source": [
    "import bioinf as bi\n",
    "\n",
    "file = 'everynsFullSystem.pdb'\n",
    "\n",
    "with open(file) as f, open('output.pdb', 'w') as o:\n",
    "    for line in f:\n",
    "        cleanline = line.strip()\n",
    "        if not cleanline.startswith(\"ATOM\"):\n",
    "            o.write(f'{cleanline}\\n')\n",
    "            continue\n",
    "        atom_line = bi.PDBAtomLine.parse_string(cleanline)\n",
    "        if atom_line.resName in (\"DPPC\", \"NA\", \"CL\"):\n",
    "            continue\n",
    "        new_atom_line = atom_line.copy_with(chainID='', resName=atom_line.resName[:3])\n",
    "        o.write(f'{str(new_atom_line)}\\n')\n"
   ]
  },
  {
   "cell_type": "code",
   "execution_count": null,
   "id": "5f6a1aff-4570-40a2-abf8-c3106fc24304",
   "metadata": {},
   "outputs": [],
   "source": []
  }
 ],
 "metadata": {
  "kernelspec": {
   "display_name": "Python 3 (ipykernel)",
   "language": "python",
   "name": "python3"
  },
  "language_info": {
   "codemirror_mode": {
    "name": "ipython",
    "version": 3
   },
   "file_extension": ".py",
   "mimetype": "text/x-python",
   "name": "python",
   "nbconvert_exporter": "python",
   "pygments_lexer": "ipython3",
   "version": "3.8.8"
  }
 },
 "nbformat": 4,
 "nbformat_minor": 5
}
