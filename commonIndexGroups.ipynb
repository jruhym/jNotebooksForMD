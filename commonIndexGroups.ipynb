{
 "cells": [
  {
   "cell_type": "code",
   "execution_count": 40,
   "id": "4cdeef84-60a3-4263-a17b-edbc8d83ee8e",
   "metadata": {},
   "outputs": [
    {
     "name": "stdout",
     "output_type": "stream",
     "text": [
      "/scr/drew/Serotonin/6WH4\n"
     ]
    }
   ],
   "source": [
    "cd /home/drew/Projects/Serotonin/6WH4"
   ]
  },
  {
   "cell_type": "code",
   "execution_count": 41,
   "id": "c388169c-ee56-4773-a7c4-ed0cdeb58523",
   "metadata": {},
   "outputs": [],
   "source": [
    "import bioinf as bi\n",
    "ligand = 'NAP'\n",
    "pos_N = 'N2'\n",
    "polr_N = 'N1'\n",
    "\n",
    "# hydroxyl = 'O23'\n",
    "Ser_hydroxyl = 'OG'\n",
    "Asp_O_nutrl = 'OD1'\n",
    "Asp_O_neg = 'OD2'\n",
    "groups = {\n",
    "    'TM_CA': 'r 86-96 | r 112-136 | r 146-171 | r 194-213 | r 232-256 | r 323-345 | r 360-380 & a CA',\n",
    "    'TM_CA_IC': 'r 96 | r 112 | r 171 | r 194 | r 256 | r 323 | r 380 & a CA',\n",
    "    'TM_CA_EC': 'r 73 | r 136 | r 146 | r 213 | r 232 | r 345 | r 360 & a CA',\n",
    "    'pivot_N' : 'r 81 | r 129 | r 169 | r 209 | r 246 | r 338 | r 377 & a N ',\n",
    "    f'{ligand}_{pos_N}': f'\"{ligand}\" & a {pos_N}',\n",
    "#     f'{ligand}_{hydroxyl}': f'\"{ligand}\" & a {hydroxyl}',\n",
    "    f'{ligand}_{polr_N}': f'\"{ligand}\" & a {polr_N}',\n",
    "    f'Ser159_{Ser_hydroxyl}': f'r 159 & a {Ser_hydroxyl}',\n",
    "    f'Asp155_{Asp_O_nutrl}': f'r 155 & a {Asp_O_nutrl}',\n",
    "    f'Asp155_{Asp_O_neg}': f'r 155 & a {Asp_O_neg}',\n",
    "#     f'Ser159_{Ser_hydroxyl}-{ligand}_{hydroxyl}': f'\"Ser159_{Ser_hydroxyl}\" | \"{ligand}_{hydroxyl}\"',\n",
    "    f'Ser159_{Ser_hydroxyl}-{ligand}_{pos_N}': f'\"Ser159_{Ser_hydroxyl}\" | \"{ligand}_{pos_N}\"',\n",
    "    f'Asp155_{Asp_O_nutrl}-{ligand}_{pos_N}': f'\"Asp155_{Asp_O_nutrl}\" | \"{ligand}_{pos_N}\"',\n",
    "    f'Asp155_{Asp_O_neg}-{ligand}_{pos_N}': f'\"Asp155_{Asp_O_neg}\" | \"{ligand}_{pos_N}\"',\n",
    "    'Ser239_OG': 'r 239 & a OG',\n",
    "    'Phe340_O': 'r 340 & a O',\n",
    "    'Asn343_ND2': 'r 343 & a ND2',\n",
    "    'watergate': '\"Ser239_OG\" | \"Phe340_O\" | \"Asn343_ND2\"'\n",
    "}"
   ]
  },
  {
   "cell_type": "code",
   "execution_count": 42,
   "id": "e7145dfe-ac6a-4ea0-8d48-28235cfbd46a",
   "metadata": {},
   "outputs": [],
   "source": [
    "#bi.add_group_to_index(groups)\n",
    "bi.add_group_to_index(groups, structure_file=\"6WH4_C.pdb\", input_index_file=None, output_index_file=\"index_C.ndx\", should_backup=False)"
   ]
  },
  {
   "cell_type": "code",
   "execution_count": 17,
   "id": "8f2ec1a9-86c2-451d-becc-57d1eb191e4d",
   "metadata": {},
   "outputs": [
    {
     "data": {
      "text/plain": [
       "{'TM_CA': 'r 86-96 | r 112-136 | r 146-171 | r 194-215 | r 232-256 | r 323-345 | r 360-380 & a CA',\n",
       " 'TM_CA_IC': 'r 112 | r 194 | r 256 | r 323 | r 380 & a CA',\n",
       " 'TM_CA_EC': 'r 136 | r 215 | r 232 | r 345 | r 360 & a CA',\n",
       " 'pivot_N': 'r 129 | r 209 | r 246 | r 338 | r 377 & a N ',\n",
       " 'CMYH_N15': '\"CMYH\" & a N15',\n",
       " 'CMYH_O23': '\"CMYH\" & a O23',\n",
       " 'Ser159_OG': 'r 159 & a OG',\n",
       " 'Asp155_OD1': 'r 155 & a OD1',\n",
       " 'Asp155_OD2': 'r 155 & a OD2',\n",
       " 'Ser159_OG-CMYH_O23': '\"Ser159_OG\" | \"CMYH_O23\"',\n",
       " 'Ser159_OG-CMYH_N15': '\"Ser159_OG\" | \"CMYH_N15\"',\n",
       " 'Asp155_OD1-CMYH_N15': '\"Asp159_OD1\" | \"CMYH_N15\"',\n",
       " 'Asp155_OD2-CMYH_N15': '\"Asp159_OD2\" | \"CMYH_N15\"',\n",
       " 'Ser239_OG': 'r 239 & a OG',\n",
       " 'Phe340_O': 'r 340 & a O',\n",
       " 'Asn343_ND2': 'r 343 & a ND2',\n",
       " 'watergate': '\"Ser239_OG\" | \"Phe340_O\" | \"Asn343_ND2\"'}"
      ]
     },
     "execution_count": 17,
     "metadata": {},
     "output_type": "execute_result"
    }
   ],
   "source": [
    "groups"
   ]
  },
  {
   "cell_type": "code",
   "execution_count": null,
   "id": "f3784270-0af0-426f-b0b5-278a71a07447",
   "metadata": {},
   "outputs": [],
   "source": []
  }
 ],
 "metadata": {
  "kernelspec": {
   "display_name": "Python 3",
   "language": "python",
   "name": "python3"
  },
  "language_info": {
   "codemirror_mode": {
    "name": "ipython",
    "version": 3
   },
   "file_extension": ".py",
   "mimetype": "text/x-python",
   "name": "python",
   "nbconvert_exporter": "python",
   "pygments_lexer": "ipython3",
   "version": "3.8.8"
  }
 },
 "nbformat": 4,
 "nbformat_minor": 5
}
