{
 "cells": [
  {
   "cell_type": "code",
   "execution_count": 26,
   "id": "82e0e3ec-9422-4249-92f3-4a38c6a4d1bc",
   "metadata": {
    "tags": []
   },
   "outputs": [],
   "source": [
    "import pandas as pd\n",
    "\n",
    "file = \"~/Downloads/3SN6_unprepped_castp_ic_pocket_dexes.csv\"\n",
    "\n",
    "a = pd.read_csv(file, dtype=str)\n",
    "\n",
    "unique = a[a.columns[0]].unique()\n"
   ]
  },
  {
   "cell_type": "code",
   "execution_count": 27,
   "id": "a8276a5a-3907-4861-96e5-94da833c5db4",
   "metadata": {},
   "outputs": [
    {
     "data": {
      "text/plain": [
       "'68 69 71 72 127 130 131 135 219 222 223 225 226 229 230 233 267 270 271 273 274 275 277 278 325 326 327 328 329 330 332'"
      ]
     },
     "execution_count": 27,
     "metadata": {},
     "output_type": "execute_result"
    }
   ],
   "source": [
    "\" \".join(unique)"
   ]
  },
  {
   "cell_type": "code",
   "execution_count": 25,
   "id": "e706041e-5a0a-4651-abed-c1b53bb18f5c",
   "metadata": {},
   "outputs": [
    {
     "name": "stdout",
     "output_type": "stream",
     "text": [
      "68\n",
      "69\n",
      "71\n",
      "72\n",
      "127\n",
      "130\n",
      "131\n",
      "135\n",
      "219\n",
      "222\n",
      "223\n",
      "225\n",
      "226\n",
      "229\n",
      "230\n",
      "233\n",
      "267\n",
      "270\n",
      "271\n",
      "273\n",
      "274\n",
      "275\n",
      "277\n",
      "278\n",
      "325\n",
      "326\n",
      "327\n",
      "328\n",
      "329\n",
      "330\n",
      "332\n"
     ]
    }
   ],
   "source": [
    "print(\"\\n\".join(unique))"
   ]
  },
  {
   "cell_type": "code",
   "execution_count": null,
   "id": "ba0c0413-dd46-45d0-9575-183c5b015716",
   "metadata": {},
   "outputs": [],
   "source": []
  }
 ],
 "metadata": {
  "kernelspec": {
   "display_name": "Python 3 (ipykernel)",
   "language": "python",
   "name": "python3"
  },
  "language_info": {
   "codemirror_mode": {
    "name": "ipython",
    "version": 3
   },
   "file_extension": ".py",
   "mimetype": "text/x-python",
   "name": "python",
   "nbconvert_exporter": "python",
   "pygments_lexer": "ipython3",
   "version": "3.8.8"
  }
 },
 "nbformat": 4,
 "nbformat_minor": 5
}
